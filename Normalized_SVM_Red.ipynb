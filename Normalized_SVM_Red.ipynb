{
 "cells": [
  {
   "cell_type": "code",
   "execution_count": 478,
   "id": "182dbc3f",
   "metadata": {},
   "outputs": [],
   "source": [
    "# Import required models\n",
    "from sklearn.model_selection import train_test_split\n",
    "from sklearn.metrics import classification_report\n",
    "from sklearn.metrics import balanced_accuracy_score\n",
    "from sklearn.metrics import confusion_matrix\n",
    "from sklearn.metrics import roc_curve, auc\n",
    "from sklearn import svm\n",
    "from pathlib import Path\n",
    "from sklearn.datasets import make_classification\n",
    "from sklearn.svm import SVC\n",
    "\n",
    "import pickle\n",
    "import numpy as np\n",
    "import pandas as pd\n",
    "import matplotlib.pyplot as plt"
   ]
  },
  {
   "cell_type": "markdown",
   "id": "818f3ef1",
   "metadata": {},
   "source": [
    "## Split the Data into Training and Testing Sets"
   ]
  },
  {
   "cell_type": "code",
   "execution_count": 470,
   "id": "eda35549",
   "metadata": {},
   "outputs": [
    {
     "data": {
      "text/html": [
       "<div>\n",
       "<style scoped>\n",
       "    .dataframe tbody tr th:only-of-type {\n",
       "        vertical-align: middle;\n",
       "    }\n",
       "\n",
       "    .dataframe tbody tr th {\n",
       "        vertical-align: top;\n",
       "    }\n",
       "\n",
       "    .dataframe thead th {\n",
       "        text-align: right;\n",
       "    }\n",
       "</style>\n",
       "<table border=\"1\" class=\"dataframe\">\n",
       "  <thead>\n",
       "    <tr style=\"text-align: right;\">\n",
       "      <th></th>\n",
       "      <th>fixed acidity</th>\n",
       "      <th>volatile acidity</th>\n",
       "      <th>citric acid</th>\n",
       "      <th>residual sugar</th>\n",
       "      <th>chlorides</th>\n",
       "      <th>free sulfur dioxide</th>\n",
       "      <th>total sulfur dioxide</th>\n",
       "      <th>density</th>\n",
       "      <th>pH</th>\n",
       "      <th>sulphates</th>\n",
       "      <th>alcohol</th>\n",
       "      <th>quality</th>\n",
       "    </tr>\n",
       "  </thead>\n",
       "  <tbody>\n",
       "    <tr>\n",
       "      <th>0</th>\n",
       "      <td>2.05671</td>\n",
       "      <td>0.883656</td>\n",
       "      <td>0.31</td>\n",
       "      <td>1.442250</td>\n",
       "      <td>0.441400</td>\n",
       "      <td>2.843867</td>\n",
       "      <td>4.326749</td>\n",
       "      <td>1.00020</td>\n",
       "      <td>3.48</td>\n",
       "      <td>0.904504</td>\n",
       "      <td>2.263702</td>\n",
       "      <td>6</td>\n",
       "    </tr>\n",
       "    <tr>\n",
       "      <th>1</th>\n",
       "      <td>1.82716</td>\n",
       "      <td>0.594392</td>\n",
       "      <td>0.40</td>\n",
       "      <td>1.118689</td>\n",
       "      <td>0.404124</td>\n",
       "      <td>3.434143</td>\n",
       "      <td>5.484807</td>\n",
       "      <td>0.99120</td>\n",
       "      <td>3.25</td>\n",
       "      <td>0.838721</td>\n",
       "      <td>2.283051</td>\n",
       "      <td>6</td>\n",
       "    </tr>\n",
       "    <tr>\n",
       "      <th>2</th>\n",
       "      <td>2.21722</td>\n",
       "      <td>0.730614</td>\n",
       "      <td>0.47</td>\n",
       "      <td>1.216440</td>\n",
       "      <td>0.490487</td>\n",
       "      <td>1.817121</td>\n",
       "      <td>2.410142</td>\n",
       "      <td>0.99820</td>\n",
       "      <td>3.30</td>\n",
       "      <td>0.908560</td>\n",
       "      <td>2.139975</td>\n",
       "      <td>6</td>\n",
       "    </tr>\n",
       "    <tr>\n",
       "      <th>3</th>\n",
       "      <td>2.06456</td>\n",
       "      <td>0.881516</td>\n",
       "      <td>0.26</td>\n",
       "      <td>1.169607</td>\n",
       "      <td>0.444796</td>\n",
       "      <td>2.519842</td>\n",
       "      <td>2.843867</td>\n",
       "      <td>0.99694</td>\n",
       "      <td>3.32</td>\n",
       "      <td>0.777498</td>\n",
       "      <td>2.110454</td>\n",
       "      <td>5</td>\n",
       "    </tr>\n",
       "    <tr>\n",
       "      <th>4</th>\n",
       "      <td>2.01653</td>\n",
       "      <td>0.730614</td>\n",
       "      <td>0.49</td>\n",
       "      <td>1.320006</td>\n",
       "      <td>0.462607</td>\n",
       "      <td>3.608826</td>\n",
       "      <td>5.104469</td>\n",
       "      <td>0.99790</td>\n",
       "      <td>3.38</td>\n",
       "      <td>0.996655</td>\n",
       "      <td>2.139975</td>\n",
       "      <td>5</td>\n",
       "    </tr>\n",
       "  </tbody>\n",
       "</table>\n",
       "</div>"
      ],
      "text/plain": [
       "   fixed acidity  volatile acidity  citric acid  residual sugar  chlorides  \\\n",
       "0        2.05671          0.883656         0.31        1.442250   0.441400   \n",
       "1        1.82716          0.594392         0.40        1.118689   0.404124   \n",
       "2        2.21722          0.730614         0.47        1.216440   0.490487   \n",
       "3        2.06456          0.881516         0.26        1.169607   0.444796   \n",
       "4        2.01653          0.730614         0.49        1.320006   0.462607   \n",
       "\n",
       "   free sulfur dioxide  total sulfur dioxide  density    pH  sulphates  \\\n",
       "0             2.843867              4.326749  1.00020  3.48   0.904504   \n",
       "1             3.434143              5.484807  0.99120  3.25   0.838721   \n",
       "2             1.817121              2.410142  0.99820  3.30   0.908560   \n",
       "3             2.519842              2.843867  0.99694  3.32   0.777498   \n",
       "4             3.608826              5.104469  0.99790  3.38   0.996655   \n",
       "\n",
       "    alcohol  quality  \n",
       "0  2.263702        6  \n",
       "1  2.283051        6  \n",
       "2  2.139975        6  \n",
       "3  2.110454        5  \n",
       "4  2.139975        5  "
      ]
     },
     "metadata": {},
     "output_type": "display_data"
    },
    {
     "data": {
      "text/html": [
       "<div>\n",
       "<style scoped>\n",
       "    .dataframe tbody tr th:only-of-type {\n",
       "        vertical-align: middle;\n",
       "    }\n",
       "\n",
       "    .dataframe tbody tr th {\n",
       "        vertical-align: top;\n",
       "    }\n",
       "\n",
       "    .dataframe thead th {\n",
       "        text-align: right;\n",
       "    }\n",
       "</style>\n",
       "<table border=\"1\" class=\"dataframe\">\n",
       "  <thead>\n",
       "    <tr style=\"text-align: right;\">\n",
       "      <th></th>\n",
       "      <th>fixed acidity</th>\n",
       "      <th>volatile acidity</th>\n",
       "      <th>citric acid</th>\n",
       "      <th>residual sugar</th>\n",
       "      <th>chlorides</th>\n",
       "      <th>free sulfur dioxide</th>\n",
       "      <th>total sulfur dioxide</th>\n",
       "      <th>density</th>\n",
       "      <th>pH</th>\n",
       "      <th>sulphates</th>\n",
       "      <th>alcohol</th>\n",
       "      <th>quality</th>\n",
       "    </tr>\n",
       "  </thead>\n",
       "  <tbody>\n",
       "    <tr>\n",
       "      <th>0</th>\n",
       "      <td>1.974681</td>\n",
       "      <td>0.56</td>\n",
       "      <td>0.08</td>\n",
       "      <td>1.357209</td>\n",
       "      <td>0.484881</td>\n",
       "      <td>2.410142</td>\n",
       "      <td>3.583048</td>\n",
       "      <td>0.9971</td>\n",
       "      <td>3.24</td>\n",
       "      <td>0.870659</td>\n",
       "      <td>2.125317</td>\n",
       "      <td>6</td>\n",
       "    </tr>\n",
       "    <tr>\n",
       "      <th>1</th>\n",
       "      <td>1.983192</td>\n",
       "      <td>0.50</td>\n",
       "      <td>0.17</td>\n",
       "      <td>1.169607</td>\n",
       "      <td>0.434448</td>\n",
       "      <td>2.758924</td>\n",
       "      <td>4.672329</td>\n",
       "      <td>0.9960</td>\n",
       "      <td>3.39</td>\n",
       "      <td>0.782974</td>\n",
       "      <td>2.117912</td>\n",
       "      <td>5</td>\n",
       "    </tr>\n",
       "    <tr>\n",
       "      <th>2</th>\n",
       "      <td>2.203575</td>\n",
       "      <td>0.67</td>\n",
       "      <td>0.22</td>\n",
       "      <td>1.392477</td>\n",
       "      <td>0.474746</td>\n",
       "      <td>2.571282</td>\n",
       "      <td>3.239612</td>\n",
       "      <td>1.0004</td>\n",
       "      <td>3.28</td>\n",
       "      <td>0.993288</td>\n",
       "      <td>2.147229</td>\n",
       "      <td>6</td>\n",
       "    </tr>\n",
       "    <tr>\n",
       "      <th>3</th>\n",
       "      <td>2.040828</td>\n",
       "      <td>0.46</td>\n",
       "      <td>0.31</td>\n",
       "      <td>1.310371</td>\n",
       "      <td>0.427266</td>\n",
       "      <td>3.174802</td>\n",
       "      <td>3.870877</td>\n",
       "      <td>0.9980</td>\n",
       "      <td>3.33</td>\n",
       "      <td>0.814325</td>\n",
       "      <td>2.139975</td>\n",
       "      <td>5</td>\n",
       "    </tr>\n",
       "    <tr>\n",
       "      <th>4</th>\n",
       "      <td>1.885204</td>\n",
       "      <td>0.46</td>\n",
       "      <td>0.24</td>\n",
       "      <td>1.193483</td>\n",
       "      <td>0.425432</td>\n",
       "      <td>2.620741</td>\n",
       "      <td>3.239612</td>\n",
       "      <td>0.9948</td>\n",
       "      <td>3.39</td>\n",
       "      <td>0.843433</td>\n",
       "      <td>2.196689</td>\n",
       "      <td>6</td>\n",
       "    </tr>\n",
       "  </tbody>\n",
       "</table>\n",
       "</div>"
      ],
      "text/plain": [
       "   fixed acidity  volatile acidity  citric acid  residual sugar  chlorides  \\\n",
       "0       1.974681              0.56         0.08        1.357209   0.484881   \n",
       "1       1.983192              0.50         0.17        1.169607   0.434448   \n",
       "2       2.203575              0.67         0.22        1.392477   0.474746   \n",
       "3       2.040828              0.46         0.31        1.310371   0.427266   \n",
       "4       1.885204              0.46         0.24        1.193483   0.425432   \n",
       "\n",
       "   free sulfur dioxide  total sulfur dioxide  density    pH  sulphates  \\\n",
       "0             2.410142              3.583048   0.9971  3.24   0.870659   \n",
       "1             2.758924              4.672329   0.9960  3.39   0.782974   \n",
       "2             2.571282              3.239612   1.0004  3.28   0.993288   \n",
       "3             3.174802              3.870877   0.9980  3.33   0.814325   \n",
       "4             2.620741              3.239612   0.9948  3.39   0.843433   \n",
       "\n",
       "    alcohol  quality  \n",
       "0  2.125317        6  \n",
       "1  2.117912        5  \n",
       "2  2.147229        6  \n",
       "3  2.139975        5  \n",
       "4  2.196689        6  "
      ]
     },
     "metadata": {},
     "output_type": "display_data"
    }
   ],
   "source": [
    "# Read csv files and display the DataFrame\n",
    "data_red_train = Path('Resources/red_train_norm.csv')\n",
    "df_red_train = pd.read_csv(data_red_train, sep = ',')\n",
    "\n",
    "data_red_test = Path('Resources/red_test_norm.csv')\n",
    "df_red_test = pd.read_csv(data_red_test, sep = ',')\n",
    "\n",
    "display(df_red_train.head())\n",
    "display(df_red_test.head())"
   ]
  },
  {
   "cell_type": "code",
   "execution_count": 471,
   "id": "a312f472",
   "metadata": {},
   "outputs": [],
   "source": [
    "# Define a function that maps values from 1-6 and 7-10.\n",
    "def map_wine_quality(value):\n",
    "    if value >= 1 and value <= 6:\n",
    "        return 0\n",
    "    elif value >= 7 and value <= 10:\n",
    "        return 1\n",
    "    else:\n",
    "        return None"
   ]
  },
  {
   "cell_type": "code",
   "execution_count": 472,
   "id": "483a8f46",
   "metadata": {
    "scrolled": true
   },
   "outputs": [],
   "source": [
    "# use the apply method to create a new column based on the existing column\n",
    "df_red_train['wine quality'] = df_red_train['quality'].apply(map_wine_quality)\n",
    "df_red_test['wine quality'] = df_red_test['quality'].apply(map_wine_quality)"
   ]
  },
  {
   "cell_type": "code",
   "execution_count": 457,
   "id": "dc398bf5",
   "metadata": {},
   "outputs": [],
   "source": [
    "# Drop 'quality' column\n",
    "df_red_train = df_red_train.drop('quality', axis=1)\n",
    "\n",
    "df_red_test = df_red_test.drop('quality', axis=1)"
   ]
  },
  {
   "cell_type": "code",
   "execution_count": 473,
   "id": "5600439c",
   "metadata": {},
   "outputs": [],
   "source": [
    "# Drop 'quality' column and low value features\n",
    "df_red_train = df_red_train.drop(['quality', 'free sulfur dioxide',\n",
    "                                 'total sulfur dioxide', 'fixed acidity',\n",
    "                                 'density', 'citric acid', 'residual sugar'], axis=1)\n",
    "\n",
    "df_red_test = df_red_test.drop(['quality','free sulfur dioxide',\n",
    "                                 'total sulfur dioxide', 'fixed acidity',\n",
    "                                 'density', 'citric acid', 'residual sugar'], axis=1)"
   ]
  },
  {
   "cell_type": "code",
   "execution_count": 474,
   "id": "7f5776df",
   "metadata": {},
   "outputs": [],
   "source": [
    "# Split the data into X and y\n",
    "X_train = df_red_train.drop('wine quality', axis=1)\n",
    "y_train = df_red_train['wine quality']\n",
    "X_test = df_red_test.drop('wine quality', axis=1)\n",
    "y_test = df_red_test['wine quality']"
   ]
  },
  {
   "cell_type": "markdown",
   "id": "9462c53d",
   "metadata": {},
   "source": [
    "## Create a Support Vector Machine Algorithm"
   ]
  },
  {
   "cell_type": "code",
   "execution_count": 475,
   "id": "50f4bb83",
   "metadata": {},
   "outputs": [],
   "source": [
    "# Create a SVM classifier\n",
    "clf = svm.SVC(C=10, kernel='linear')\n",
    "\n",
    "# Train the classifier on the training set\n",
    "model = clf.fit(X_train, y_train)"
   ]
  },
  {
   "cell_type": "code",
   "execution_count": 479,
   "id": "0155a34c",
   "metadata": {},
   "outputs": [],
   "source": [
    "# Save the trained model to a file\n",
    "filename = 'Pickle/svm_model_red.sav'\n",
    "pickle.dump(model, open(filename, 'wb'))"
   ]
  },
  {
   "cell_type": "code",
   "execution_count": 273,
   "id": "633f90bf",
   "metadata": {},
   "outputs": [
    {
     "data": {
      "image/png": "[encoded data removed]",
      "text/plain": [
       "<Figure size 432x288 with 1 Axes>"
      ]
     },
     "metadata": {
      "needs_background": "light"
     },
     "output_type": "display_data"
    }
   ],
   "source": [
    "# get feature importances from SVM model\n",
    "coef = abs(model.coef_)\n",
    "coef_series = pd.Series(coef[0], index=X_train.columns)\n",
    "coef_series_sorted = coef_series.sort_values(ascending=False)\n",
    "\n",
    "# create horizontal bar chart of feature importances\n",
    "ax = coef_series_sorted.plot(kind='barh', color='darkred', alpha=0.7)\n",
    "ax.set_xlabel('Feature Importance')\n",
    "ax.set_ylabel('Feature')\n",
    "ax.set_title('Red Wine SVM Classifier (Before Dropping)')\n",
    "plt.tight_layout()\n",
    "# plt.savefig('Images/SVM_Feature_Importance_Red_Before.jpg', dpi=300)"
   ]
  },
  {
   "cell_type": "code",
   "execution_count": 327,
   "id": "f2720a31",
   "metadata": {},
   "outputs": [
    {
     "data": {
      "image/png": "[encoded data removed]",
      "text/plain": [
       "<Figure size 432x288 with 1 Axes>"
      ]
     },
     "metadata": {
      "needs_background": "light"
     },
     "output_type": "display_data"
    }
   ],
   "source": [
    "# get feature importances from SVM model\n",
    "coef = abs(model.coef_)\n",
    "coef_series = pd.Series(coef[0], index=X_train.columns)\n",
    "coef_series_sorted = coef_series.sort_values(ascending=False)\n",
    "\n",
    "# create horizontal bar chart of feature importances\n",
    "ax = coef_series_sorted.plot(kind='barh', color='darkred', alpha=0.7)\n",
    "ax.set_xlabel('Feature Importance')\n",
    "ax.set_ylabel('Feature')\n",
    "ax.set_title('Red Wine SVM Classifier (After Dropping)')\n",
    "plt.tight_layout()\n",
    "# plt.savefig('Images/SVM_Feature_Importance_Red_After', dpi=300)"
   ]
  },
  {
   "cell_type": "code",
   "execution_count": 468,
   "id": "44d92d2d",
   "metadata": {},
   "outputs": [
    {
     "data": {
      "image/png": "[encoded data removed]",
      "text/plain": [
       "<Figure size 432x288 with 1 Axes>"
      ]
     },
     "metadata": {
      "needs_background": "light"
     },
     "output_type": "display_data"
    }
   ],
   "source": [
    "# Generate ROC curve for test set\n",
    "fpr, tpr, thresholds = roc_curve(y_test, model.decision_function(X_test))\n",
    "roc_auc = auc(fpr, tpr)\n",
    "\n",
    "# Plot ROC curve\n",
    "plt.figure()\n",
    "lw = 2\n",
    "plt.plot(fpr, tpr, color='darkorange',\n",
    "         lw=lw, label='ROC curve (area = %0.2f)' % roc_auc)\n",
    "plt.plot([0, 1], [0, 1], color='navy', lw=lw, linestyle='--')\n",
    "plt.xlim([0.0, 1.0])\n",
    "plt.ylim([0.0, 1.05])\n",
    "plt.xlabel('False Positive Rate')\n",
    "plt.ylabel('True Positive Rate')\n",
    "plt.title('ROC Curve (Red Wine Quality)')\n",
    "plt.legend(loc=\"lower right\")\n",
    "plt.tight_layout()\n",
    "# plt.savefig('Images/ROC_Red', dpi=300)\n",
    "plt.show()"
   ]
  },
  {
   "cell_type": "code",
   "execution_count": 477,
   "id": "1492e147",
   "metadata": {},
   "outputs": [
    {
     "data": {
      "image/png": "[encoded data removed]",
      "text/plain": [
       "<Figure size 432x288 with 1 Axes>"
      ]
     },
     "metadata": {
      "needs_background": "light"
     },
     "output_type": "display_data"
    }
   ],
   "source": [
    "# Generate the learning curve\n",
    "train_sizes, train_scores, test_scores = learning_curve(\n",
    "    clf, X_train, y_train, cv=5, scoring='accuracy', n_jobs=-1,\n",
    "    train_sizes=np.linspace(0.1, 1.0, 10))\n",
    "\n",
    "# Compute the mean and standard deviation of the train and test scores\n",
    "train_mean = np.mean(train_scores, axis=1)\n",
    "train_std = np.std(train_scores, axis=1)\n",
    "test_mean = np.mean(test_scores, axis=1)\n",
    "test_std = np.std(test_scores, axis=1)\n",
    "\n",
    "# Plot the learning curve\n",
    "plt.plot(train_sizes, train_mean, label='Training score')\n",
    "plt.plot(train_sizes, test_mean, label='Cross-validation score')\n",
    "plt.fill_between(train_sizes, train_mean - train_std, train_mean + train_std, alpha=0.1)\n",
    "plt.fill_between(train_sizes, test_mean - test_std, test_mean + test_std, alpha=0.1)\n",
    "plt.legend(loc='best')\n",
    "plt.xlabel('Number of training examples')\n",
    "plt.ylabel('Accuracy')\n",
    "plt.title('Learning Curve (Red Wine Quality)')\n",
    "plt.tight_layout()\n",
    "# plt.savefig('Images/Learning_Curve_Red', dpi=300)\n",
    "plt.show()"
   ]
  },
  {
   "cell_type": "code",
   "execution_count": 460,
   "id": "558a94a5",
   "metadata": {},
   "outputs": [],
   "source": [
    "# Use the model to make predictions on the testing data\n",
    "training_predictions = model.predict(X_train)\n",
    "testing_predictions = clf.predict(X_test)"
   ]
  },
  {
   "cell_type": "markdown",
   "id": "978d1687",
   "metadata": {},
   "source": [
    "### Before Dropping Low Value Features"
   ]
  },
  {
   "cell_type": "code",
   "execution_count": 461,
   "id": "95af2ba8",
   "metadata": {},
   "outputs": [
    {
     "data": {
      "text/plain": [
       "0.8911042944785277"
      ]
     },
     "execution_count": 461,
     "metadata": {},
     "output_type": "execute_result"
    }
   ],
   "source": [
    "# Create and save the balanced accuracy score\n",
    "training_accuracy_score = balanced_accuracy_score(y_train, training_predictions)\n",
    "\n",
    "# Print the balance accuracy score for the training data\n",
    "training_accuracy_score"
   ]
  },
  {
   "cell_type": "code",
   "execution_count": 462,
   "id": "f67e8340",
   "metadata": {},
   "outputs": [
    {
     "data": {
      "text/plain": [
       "0.8852459016393442"
      ]
     },
     "execution_count": 462,
     "metadata": {},
     "output_type": "execute_result"
    }
   ],
   "source": [
    "# Create and save the balanced accuracy score\n",
    "testing_accuracy_score = balanced_accuracy_score(y_test, testing_predictions)\n",
    "\n",
    "# Print the balance accuracy score for the testing data\n",
    "testing_accuracy_score"
   ]
  },
  {
   "cell_type": "code",
   "execution_count": 463,
   "id": "aec1b549",
   "metadata": {},
   "outputs": [
    {
     "name": "stdout",
     "output_type": "stream",
     "text": [
      "[[1778  178]\n",
      " [ 124  854]]\n"
     ]
    }
   ],
   "source": [
    "# Create and save the confusion matrix for the testing data\n",
    "training_matrix = confusion_matrix(y_train, training_predictions)\n",
    "\n",
    "# Print the confusion matrix for the testing data\n",
    "print(training_matrix)"
   ]
  },
  {
   "cell_type": "code",
   "execution_count": 464,
   "id": "873ab4ae",
   "metadata": {},
   "outputs": [
    {
     "name": "stdout",
     "output_type": "stream",
     "text": [
      "[[402  86]\n",
      " [ 13 231]]\n"
     ]
    }
   ],
   "source": [
    "# Create and save the confusion matrix for the testing data\n",
    "test_matrix = confusion_matrix(y_test, testing_predictions)\n",
    "\n",
    "# Print the confusion matrix for the testing data\n",
    "print(test_matrix)"
   ]
  },
  {
   "cell_type": "code",
   "execution_count": 465,
   "id": "5593dca5",
   "metadata": {},
   "outputs": [
    {
     "name": "stdout",
     "output_type": "stream",
     "text": [
      "              precision    recall  f1-score   support\n",
      "\n",
      "           0       0.93      0.91      0.92      1956\n",
      "           1       0.83      0.87      0.85       978\n",
      "\n",
      "    accuracy                           0.90      2934\n",
      "   macro avg       0.88      0.89      0.89      2934\n",
      "weighted avg       0.90      0.90      0.90      2934\n",
      "\n"
     ]
    }
   ],
   "source": [
    "# Create and save the training classification report\n",
    "training_report = classification_report(y_train, training_predictions)\n",
    "\n",
    "# Print the training classification report\n",
    "print(training_report)"
   ]
  },
  {
   "cell_type": "code",
   "execution_count": 466,
   "id": "3843d965",
   "metadata": {},
   "outputs": [
    {
     "name": "stdout",
     "output_type": "stream",
     "text": [
      "              precision    recall  f1-score   support\n",
      "\n",
      "           0       0.97      0.82      0.89       488\n",
      "           1       0.73      0.95      0.82       244\n",
      "\n",
      "    accuracy                           0.86       732\n",
      "   macro avg       0.85      0.89      0.86       732\n",
      "weighted avg       0.89      0.86      0.87       732\n",
      "\n"
     ]
    }
   ],
   "source": [
    "# Create and save the testing classification report\n",
    "testing_report = classification_report(y_test, testing_predictions)\n",
    "\n",
    "# Print the testing classification report\n",
    "print(testing_report)"
   ]
  },
  {
   "cell_type": "markdown",
   "id": "48893184",
   "metadata": {},
   "source": [
    "### After Dropping Low Value Features"
   ]
  },
  {
   "cell_type": "code",
   "execution_count": 445,
   "id": "973ff504",
   "metadata": {},
   "outputs": [
    {
     "data": {
      "text/plain": [
       "0.890081799591002"
      ]
     },
     "execution_count": 445,
     "metadata": {},
     "output_type": "execute_result"
    }
   ],
   "source": [
    "# Create and save the balanced accuracy score\n",
    "training_accuracy_score = balanced_accuracy_score(y_train, training_predictions)\n",
    "\n",
    "# Print the balance accuracy score for the training data\n",
    "training_accuracy_score"
   ]
  },
  {
   "cell_type": "code",
   "execution_count": 446,
   "id": "1f4039de",
   "metadata": {},
   "outputs": [
    {
     "data": {
      "text/plain": [
       "0.8719262295081966"
      ]
     },
     "execution_count": 446,
     "metadata": {},
     "output_type": "execute_result"
    }
   ],
   "source": [
    "# Create and save the balanced accuracy score\n",
    "testing_accuracy_score = balanced_accuracy_score(y_test, testing_predictions)\n",
    "\n",
    "# Print the balance accuracy score for the testing data\n",
    "testing_accuracy_score"
   ]
  },
  {
   "cell_type": "code",
   "execution_count": 447,
   "id": "0faf9a8b",
   "metadata": {},
   "outputs": [
    {
     "name": "stdout",
     "output_type": "stream",
     "text": [
      "[[1770  186]\n",
      " [ 122  856]]\n"
     ]
    }
   ],
   "source": [
    "# Create and save the confusion matrix for the testing data\n",
    "training_matrix = confusion_matrix(y_train, training_predictions)\n",
    "\n",
    "# Print the confusion matrix for the testing data\n",
    "print(training_matrix)"
   ]
  },
  {
   "cell_type": "code",
   "execution_count": 448,
   "id": "99bc780b",
   "metadata": {},
   "outputs": [
    {
     "name": "stdout",
     "output_type": "stream",
     "text": [
      "[[371 117]\n",
      " [  4 240]]\n"
     ]
    }
   ],
   "source": [
    "# Create and save the confusion matrix for the testing data\n",
    "test_matrix = confusion_matrix(y_test, testing_predictions)\n",
    "\n",
    "# Print the confusion matrix for the testing data\n",
    "print(test_matrix)"
   ]
  },
  {
   "cell_type": "code",
   "execution_count": 449,
   "id": "da0089dd",
   "metadata": {},
   "outputs": [
    {
     "name": "stdout",
     "output_type": "stream",
     "text": [
      "              precision    recall  f1-score   support\n",
      "\n",
      "           0       0.94      0.90      0.92      1956\n",
      "           1       0.82      0.88      0.85       978\n",
      "\n",
      "    accuracy                           0.90      2934\n",
      "   macro avg       0.88      0.89      0.88      2934\n",
      "weighted avg       0.90      0.90      0.90      2934\n",
      "\n"
     ]
    }
   ],
   "source": [
    "# Create and save the training classification report\n",
    "training_report = classification_report(y_train, training_predictions)\n",
    "\n",
    "# Print the training classification report\n",
    "print(training_report)"
   ]
  },
  {
   "cell_type": "code",
   "execution_count": 450,
   "id": "0c0d471a",
   "metadata": {},
   "outputs": [
    {
     "name": "stdout",
     "output_type": "stream",
     "text": [
      "              precision    recall  f1-score   support\n",
      "\n",
      "           0       0.99      0.76      0.86       488\n",
      "           1       0.67      0.98      0.80       244\n",
      "\n",
      "    accuracy                           0.83       732\n",
      "   macro avg       0.83      0.87      0.83       732\n",
      "weighted avg       0.88      0.83      0.84       732\n",
      "\n"
     ]
    }
   ],
   "source": [
    "# Create and save the testing classification report\n",
    "testing_report = classification_report(y_test, testing_predictions)\n",
    "\n",
    "# Print the testing classification report\n",
    "print(testing_report)"
   ]
  }
 ],
 "metadata": {
  "kernelspec": {
   "display_name": "Python 3 (ipykernel)",
   "language": "python",
   "name": "python3"
  },
  "language_info": {
   "codemirror_mode": {
    "name": "ipython",
    "version": 3
   },
   "file_extension": ".py",
   "mimetype": "text/x-python",
   "name": "python",
   "nbconvert_exporter": "python",
   "pygments_lexer": "ipython3",
   "version": "3.9.12"
  }
 },
 "nbformat": 4,
 "nbformat_minor": 5
}
