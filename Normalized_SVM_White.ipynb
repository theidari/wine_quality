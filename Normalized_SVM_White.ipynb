{
 "cells": [
  {
   "cell_type": "code",
   "execution_count": 690,
   "id": "c59eab91",
   "metadata": {},
   "outputs": [],
   "source": [
    "# Import required models\n",
    "from sklearn.model_selection import train_test_split\n",
    "from sklearn.metrics import classification_report\n",
    "from sklearn.metrics import balanced_accuracy_score\n",
    "from sklearn.metrics import confusion_matrix\n",
    "from sklearn.metrics import roc_curve, auc\n",
    "from sklearn import svm\n",
    "from pathlib import Path\n",
    "from sklearn.datasets import make_classification\n",
    "from sklearn.svm import SVC\n",
    "\n",
    "import pickle\n",
    "import numpy as np\n",
    "import pandas as pd\n",
    "import matplotlib.pyplot as plt"
   ]
  },
  {
   "cell_type": "markdown",
   "id": "1760c5eb",
   "metadata": {},
   "source": [
    "## Split the Data into Training and Testing Sets"
   ]
  },
  {
   "cell_type": "code",
   "execution_count": 699,
   "id": "7b7051af",
   "metadata": {},
   "outputs": [
    {
     "data": {
      "text/html": [
       "<div>\n",
       "<style scoped>\n",
       "    .dataframe tbody tr th:only-of-type {\n",
       "        vertical-align: middle;\n",
       "    }\n",
       "\n",
       "    .dataframe tbody tr th {\n",
       "        vertical-align: top;\n",
       "    }\n",
       "\n",
       "    .dataframe thead th {\n",
       "        text-align: right;\n",
       "    }\n",
       "</style>\n",
       "<table border=\"1\" class=\"dataframe\">\n",
       "  <thead>\n",
       "    <tr style=\"text-align: right;\">\n",
       "      <th></th>\n",
       "      <th>fixed acidity</th>\n",
       "      <th>volatile acidity</th>\n",
       "      <th>citric acid</th>\n",
       "      <th>residual sugar</th>\n",
       "      <th>chlorides</th>\n",
       "      <th>free sulfur dioxide</th>\n",
       "      <th>total sulfur dioxide</th>\n",
       "      <th>density</th>\n",
       "      <th>pH</th>\n",
       "      <th>sulphates</th>\n",
       "      <th>alcohol</th>\n",
       "      <th>quality</th>\n",
       "    </tr>\n",
       "  </thead>\n",
       "  <tbody>\n",
       "    <tr>\n",
       "      <th>0</th>\n",
       "      <td>1.939877</td>\n",
       "      <td>0.553966</td>\n",
       "      <td>0.711379</td>\n",
       "      <td>2.016530</td>\n",
       "      <td>0.303659</td>\n",
       "      <td>3.530348</td>\n",
       "      <td>111.0</td>\n",
       "      <td>0.997567</td>\n",
       "      <td>3.14</td>\n",
       "      <td>0.742896</td>\n",
       "      <td>12.4</td>\n",
       "      <td>6</td>\n",
       "    </tr>\n",
       "    <tr>\n",
       "      <th>1</th>\n",
       "      <td>1.846915</td>\n",
       "      <td>0.629961</td>\n",
       "      <td>0.760590</td>\n",
       "      <td>2.263702</td>\n",
       "      <td>0.344822</td>\n",
       "      <td>3.634241</td>\n",
       "      <td>195.0</td>\n",
       "      <td>0.998932</td>\n",
       "      <td>3.18</td>\n",
       "      <td>0.804145</td>\n",
       "      <td>9.5</td>\n",
       "      <td>5</td>\n",
       "    </tr>\n",
       "    <tr>\n",
       "      <th>2</th>\n",
       "      <td>1.775808</td>\n",
       "      <td>0.683990</td>\n",
       "      <td>0.691042</td>\n",
       "      <td>1.948695</td>\n",
       "      <td>0.333222</td>\n",
       "      <td>2.924018</td>\n",
       "      <td>95.0</td>\n",
       "      <td>0.997554</td>\n",
       "      <td>3.25</td>\n",
       "      <td>0.788374</td>\n",
       "      <td>11.1</td>\n",
       "      <td>6</td>\n",
       "    </tr>\n",
       "    <tr>\n",
       "      <th>3</th>\n",
       "      <td>1.903778</td>\n",
       "      <td>0.574890</td>\n",
       "      <td>0.704730</td>\n",
       "      <td>1.193483</td>\n",
       "      <td>0.330193</td>\n",
       "      <td>3.207534</td>\n",
       "      <td>101.0</td>\n",
       "      <td>0.997711</td>\n",
       "      <td>3.21</td>\n",
       "      <td>0.814325</td>\n",
       "      <td>10.8</td>\n",
       "      <td>7</td>\n",
       "    </tr>\n",
       "    <tr>\n",
       "      <th>4</th>\n",
       "      <td>1.974681</td>\n",
       "      <td>0.669433</td>\n",
       "      <td>0.638250</td>\n",
       "      <td>2.666059</td>\n",
       "      <td>0.375629</td>\n",
       "      <td>3.301927</td>\n",
       "      <td>174.0</td>\n",
       "      <td>0.999920</td>\n",
       "      <td>3.20</td>\n",
       "      <td>0.793701</td>\n",
       "      <td>10.4</td>\n",
       "      <td>5</td>\n",
       "    </tr>\n",
       "  </tbody>\n",
       "</table>\n",
       "</div>"
      ],
      "text/plain": [
       "   fixed acidity  volatile acidity  citric acid  residual sugar  chlorides  \\\n",
       "0       1.939877          0.553966     0.711379        2.016530   0.303659   \n",
       "1       1.846915          0.629961     0.760590        2.263702   0.344822   \n",
       "2       1.775808          0.683990     0.691042        1.948695   0.333222   \n",
       "3       1.903778          0.574890     0.704730        1.193483   0.330193   \n",
       "4       1.974681          0.669433     0.638250        2.666059   0.375629   \n",
       "\n",
       "   free sulfur dioxide  total sulfur dioxide   density    pH  sulphates  \\\n",
       "0             3.530348                 111.0  0.997567  3.14   0.742896   \n",
       "1             3.634241                 195.0  0.998932  3.18   0.804145   \n",
       "2             2.924018                  95.0  0.997554  3.25   0.788374   \n",
       "3             3.207534                 101.0  0.997711  3.21   0.814325   \n",
       "4             3.301927                 174.0  0.999920  3.20   0.793701   \n",
       "\n",
       "   alcohol  quality  \n",
       "0     12.4        6  \n",
       "1      9.5        5  \n",
       "2     11.1        6  \n",
       "3     10.8        7  \n",
       "4     10.4        5  "
      ]
     },
     "metadata": {},
     "output_type": "display_data"
    },
    {
     "data": {
      "text/html": [
       "<div>\n",
       "<style scoped>\n",
       "    .dataframe tbody tr th:only-of-type {\n",
       "        vertical-align: middle;\n",
       "    }\n",
       "\n",
       "    .dataframe tbody tr th {\n",
       "        vertical-align: top;\n",
       "    }\n",
       "\n",
       "    .dataframe thead th {\n",
       "        text-align: right;\n",
       "    }\n",
       "</style>\n",
       "<table border=\"1\" class=\"dataframe\">\n",
       "  <thead>\n",
       "    <tr style=\"text-align: right;\">\n",
       "      <th></th>\n",
       "      <th>fixed acidity</th>\n",
       "      <th>volatile acidity</th>\n",
       "      <th>citric acid</th>\n",
       "      <th>residual sugar</th>\n",
       "      <th>chlorides</th>\n",
       "      <th>free sulfur dioxide</th>\n",
       "      <th>total sulfur dioxide</th>\n",
       "      <th>density</th>\n",
       "      <th>pH</th>\n",
       "      <th>sulphates</th>\n",
       "      <th>alcohol</th>\n",
       "      <th>quality</th>\n",
       "    </tr>\n",
       "  </thead>\n",
       "  <tbody>\n",
       "    <tr>\n",
       "      <th>0</th>\n",
       "      <td>1.817121</td>\n",
       "      <td>0.661911</td>\n",
       "      <td>0.742896</td>\n",
       "      <td>2.210419</td>\n",
       "      <td>0.363424</td>\n",
       "      <td>3.802952</td>\n",
       "      <td>5.301459</td>\n",
       "      <td>0.99370</td>\n",
       "      <td>3.09</td>\n",
       "      <td>0.838721</td>\n",
       "      <td>10.966667</td>\n",
       "      <td>7</td>\n",
       "    </tr>\n",
       "    <tr>\n",
       "      <th>1</th>\n",
       "      <td>1.754411</td>\n",
       "      <td>0.809267</td>\n",
       "      <td>0.542884</td>\n",
       "      <td>1.392477</td>\n",
       "      <td>0.330193</td>\n",
       "      <td>3.239612</td>\n",
       "      <td>5.039684</td>\n",
       "      <td>0.98856</td>\n",
       "      <td>3.20</td>\n",
       "      <td>0.809267</td>\n",
       "      <td>13.200000</td>\n",
       "      <td>8</td>\n",
       "    </tr>\n",
       "    <tr>\n",
       "      <th>2</th>\n",
       "      <td>1.921997</td>\n",
       "      <td>0.629961</td>\n",
       "      <td>0.730614</td>\n",
       "      <td>1.280579</td>\n",
       "      <td>0.330193</td>\n",
       "      <td>3.107233</td>\n",
       "      <td>4.986631</td>\n",
       "      <td>0.99080</td>\n",
       "      <td>3.28</td>\n",
       "      <td>0.754784</td>\n",
       "      <td>12.200000</td>\n",
       "      <td>8</td>\n",
       "    </tr>\n",
       "    <tr>\n",
       "      <th>3</th>\n",
       "      <td>1.939877</td>\n",
       "      <td>0.654213</td>\n",
       "      <td>0.704730</td>\n",
       "      <td>1.169607</td>\n",
       "      <td>0.377976</td>\n",
       "      <td>3.141381</td>\n",
       "      <td>5.289572</td>\n",
       "      <td>0.99178</td>\n",
       "      <td>3.18</td>\n",
       "      <td>0.777498</td>\n",
       "      <td>10.700000</td>\n",
       "      <td>5</td>\n",
       "    </tr>\n",
       "    <tr>\n",
       "      <th>4</th>\n",
       "      <td>1.866256</td>\n",
       "      <td>0.683990</td>\n",
       "      <td>0.697953</td>\n",
       "      <td>1.786316</td>\n",
       "      <td>0.353035</td>\n",
       "      <td>3.000000</td>\n",
       "      <td>4.497941</td>\n",
       "      <td>0.99184</td>\n",
       "      <td>3.28</td>\n",
       "      <td>0.843433</td>\n",
       "      <td>12.000000</td>\n",
       "      <td>7</td>\n",
       "    </tr>\n",
       "  </tbody>\n",
       "</table>\n",
       "</div>"
      ],
      "text/plain": [
       "   fixed acidity  volatile acidity  citric acid  residual sugar  chlorides  \\\n",
       "0       1.817121          0.661911     0.742896        2.210419   0.363424   \n",
       "1       1.754411          0.809267     0.542884        1.392477   0.330193   \n",
       "2       1.921997          0.629961     0.730614        1.280579   0.330193   \n",
       "3       1.939877          0.654213     0.704730        1.169607   0.377976   \n",
       "4       1.866256          0.683990     0.697953        1.786316   0.353035   \n",
       "\n",
       "   free sulfur dioxide  total sulfur dioxide  density    pH  sulphates  \\\n",
       "0             3.802952              5.301459  0.99370  3.09   0.838721   \n",
       "1             3.239612              5.039684  0.98856  3.20   0.809267   \n",
       "2             3.107233              4.986631  0.99080  3.28   0.754784   \n",
       "3             3.141381              5.289572  0.99178  3.18   0.777498   \n",
       "4             3.000000              4.497941  0.99184  3.28   0.843433   \n",
       "\n",
       "     alcohol  quality  \n",
       "0  10.966667        7  \n",
       "1  13.200000        8  \n",
       "2  12.200000        8  \n",
       "3  10.700000        5  \n",
       "4  12.000000        7  "
      ]
     },
     "metadata": {},
     "output_type": "display_data"
    }
   ],
   "source": [
    "# Read csv files and display the DataFrame\n",
    "data_white_train = Path('Resources/white_train_norm.csv')\n",
    "df_white_train = pd.read_csv(data_white_train, sep = ',')\n",
    "\n",
    "data_white_test = Path('Resources/white_test_norm.csv')\n",
    "df_white_test = pd.read_csv(data_white_test, sep = ',')\n",
    "\n",
    "display(df_white_train.head())\n",
    "display(df_white_test.head())"
   ]
  },
  {
   "cell_type": "code",
   "execution_count": 700,
   "id": "5412f4d5",
   "metadata": {},
   "outputs": [],
   "source": [
    "# Define a function that maps values from 1-6 and 7-10.\n",
    "def map_wine_quality(value):\n",
    "    if value >= 1 and value <= 6:\n",
    "        return 0\n",
    "    elif value >= 7 and value <= 10:\n",
    "        return 1\n",
    "    else:\n",
    "        return None"
   ]
  },
  {
   "cell_type": "code",
   "execution_count": 693,
   "id": "f9268b8c",
   "metadata": {
    "scrolled": true
   },
   "outputs": [],
   "source": [
    "# use the apply method to create a new column based on the existing column\n",
    "df_white_train['wine quality'] = df_white_train['quality'].apply(map_wine_quality)\n",
    "df_white_test['wine quality'] = df_white_test['quality'].apply(map_wine_quality)"
   ]
  },
  {
   "cell_type": "code",
   "execution_count": 675,
   "id": "0fad6a6c",
   "metadata": {},
   "outputs": [],
   "source": [
    "# Drop 'quality' column\n",
    "df_white_train = df_white_train.drop('quality', axis=1)\n",
    "\n",
    "df_white_test = df_white_test.drop('quality', axis=1)"
   ]
  },
  {
   "cell_type": "code",
   "execution_count": 694,
   "id": "e2dd8cd6",
   "metadata": {},
   "outputs": [],
   "source": [
    "# Drop 'quality' column and low value features\n",
    "df_white_train = df_white_train.drop(['quality', 'total sulfur dioxide',\n",
    "                                     'density', 'citric acid', 'residual sugar'], axis=1)\n",
    "\n",
    "df_white_test = df_white_test.drop(['quality', 'total sulfur dioxide',\n",
    "                                     'density', 'citric acid', 'residual sugar'], axis=1)"
   ]
  },
  {
   "cell_type": "code",
   "execution_count": 695,
   "id": "ef2da2aa",
   "metadata": {},
   "outputs": [],
   "source": [
    "# Split the data into X and y\n",
    "X_train = df_white_train.drop('wine quality', axis=1)\n",
    "y_train = df_white_train['wine quality']\n",
    "X_test = df_white_test.drop('wine quality', axis=1)\n",
    "y_test = df_white_test['wine quality']"
   ]
  },
  {
   "cell_type": "markdown",
   "id": "25abf843",
   "metadata": {},
   "source": [
    "## Create a Support Vector Machine Algorithm"
   ]
  },
  {
   "cell_type": "code",
   "execution_count": 696,
   "id": "5dc01738",
   "metadata": {},
   "outputs": [],
   "source": [
    "# Create a SVM classifier\n",
    "clf = svm.SVC(C=.1, kernel='linear')\n",
    "\n",
    "# Train the classifier on the training set\n",
    "model = clf.fit(X_train, y_train)"
   ]
  },
  {
   "cell_type": "code",
   "execution_count": 697,
   "id": "ca68d37b",
   "metadata": {},
   "outputs": [],
   "source": [
    "# Save the trained model to a file\n",
    "filename = 'Pickle/svm_model_white.sav'\n",
    "pickle.dump(model, open(filename, 'wb'))"
   ]
  },
  {
   "cell_type": "code",
   "execution_count": 603,
   "id": "53fc9223",
   "metadata": {},
   "outputs": [
    {
     "data": {
      "image/png": "[encoded data removed]",
      "text/plain": [
       "<Figure size 432x288 with 1 Axes>"
      ]
     },
     "metadata": {
      "needs_background": "light"
     },
     "output_type": "display_data"
    }
   ],
   "source": [
    "# get feature importances from SVM model\n",
    "coef = abs(model.coef_)\n",
    "coef_series = pd.Series(coef[0], index=X_train.columns)\n",
    "coef_series_sorted = coef_series.sort_values(ascending=False)\n",
    "\n",
    "# create horizontal bar chart of feature importances\n",
    "ax = coef_series_sorted.plot(kind='barh')\n",
    "ax.set_xlabel('Feature Importance')\n",
    "ax.set_ylabel('Feature')\n",
    "ax.set_title('White Wine SVM Classifier (Before Dropping)')\n",
    "plt.tight_layout()\n",
    "# plt.savefig('Images/SVM_Feature_Importance_White_Before.jpg', dpi=300)"
   ]
  },
  {
   "cell_type": "code",
   "execution_count": 698,
   "id": "1d1c3d27",
   "metadata": {},
   "outputs": [
    {
     "data": {
      "image/png": "[encoded data removed]",
      "text/plain": [
       "<Figure size 432x288 with 1 Axes>"
      ]
     },
     "metadata": {
      "needs_background": "light"
     },
     "output_type": "display_data"
    }
   ],
   "source": [
    "# get feature importances from SVM model\n",
    "coef = abs(model.coef_)\n",
    "coef_series = pd.Series(coef[0], index=X_train.columns)\n",
    "coef_series_sorted = coef_series.sort_values(ascending=False)\n",
    "\n",
    "# create horizontal bar chart of feature importances\n",
    "ax = coef_series_sorted.plot(kind='barh')\n",
    "ax.set_xlabel('Feature Importance')\n",
    "ax.set_ylabel('Feature')\n",
    "ax.set_title('White Wine SVM Classifier (After Dropping)')\n",
    "plt.tight_layout()\n",
    "# plt.savefig('Images/SVM_Feature_Importance_White_After', dpi=300)"
   ]
  },
  {
   "cell_type": "code",
   "execution_count": 671,
   "id": "a52c026d",
   "metadata": {},
   "outputs": [
    {
     "data": {
      "image/png": "[encoded data removed]",
      "text/plain": [
       "<Figure size 432x288 with 1 Axes>"
      ]
     },
     "metadata": {
      "needs_background": "light"
     },
     "output_type": "display_data"
    }
   ],
   "source": [
    "# Generate ROC curve for test set\n",
    "fpr, tpr, thresholds = roc_curve(y_test, model.decision_function(X_test))\n",
    "roc_auc = auc(fpr, tpr)\n",
    "\n",
    "# Plot ROC curve\n",
    "plt.figure()\n",
    "lw = 2\n",
    "plt.plot(fpr, tpr, color='darkorange',\n",
    "         lw=lw, label='ROC curve (area = %0.2f)' % roc_auc)\n",
    "plt.plot([0, 1], [0, 1], color='navy', lw=lw, linestyle='--')\n",
    "plt.xlim([0.0, 1.0])\n",
    "plt.ylim([0.0, 1.05])\n",
    "plt.xlabel('False Positive Rate')\n",
    "plt.ylabel('True Positive Rate')\n",
    "plt.title('ROC Curve (White Wine Quality)')\n",
    "plt.legend(loc=\"lower right\")\n",
    "plt.tight_layout()\n",
    "# plt.savefig('Images/ROC_White', dpi=300)\n",
    "plt.show()"
   ]
  },
  {
   "cell_type": "code",
   "execution_count": 669,
   "id": "ed702320",
   "metadata": {},
   "outputs": [
    {
     "data": {
      "image/png": "[encoded data removed]",
      "text/plain": [
       "<Figure size 432x288 with 1 Axes>"
      ]
     },
     "metadata": {
      "needs_background": "light"
     },
     "output_type": "display_data"
    }
   ],
   "source": [
    "# Generate the learning curve\n",
    "train_sizes, train_scores, test_scores = learning_curve(\n",
    "    clf, X_train, y_train, cv=5, scoring='accuracy', n_jobs=-1,\n",
    "    train_sizes=np.linspace(0.1, 1.0, 10))\n",
    "\n",
    "# Compute the mean and standard deviation of the train and test scores\n",
    "train_mean = np.mean(train_scores, axis=1)\n",
    "train_std = np.std(train_scores, axis=1)\n",
    "test_mean = np.mean(test_scores, axis=1)\n",
    "test_std = np.std(test_scores, axis=1)\n",
    "\n",
    "# Plot the learning curve\n",
    "plt.plot(train_sizes, train_mean, label='Training score')\n",
    "plt.plot(train_sizes, test_mean, label='Cross-validation score')\n",
    "plt.fill_between(train_sizes, train_mean - train_std, train_mean + train_std, alpha=0.1)\n",
    "plt.fill_between(train_sizes, test_mean - test_std, test_mean + test_std, alpha=0.1)\n",
    "plt.legend(loc='best')\n",
    "plt.xlabel('Number of training examples')\n",
    "plt.ylabel('Accuracy')\n",
    "plt.title('Learning Curve (White Wine Quality)')\n",
    "plt.tight_layout()\n",
    "# plt.savefig('Images/Learning_Curve_White.jpg', dpi=300)\n",
    "plt.show()"
   ]
  },
  {
   "cell_type": "code",
   "execution_count": 678,
   "id": "f681a437",
   "metadata": {},
   "outputs": [],
   "source": [
    "# Use the model to make predictions on the testing data\n",
    "training_predictions = model.predict(X_train)\n",
    "testing_predictions = clf.predict(X_test)"
   ]
  },
  {
   "cell_type": "markdown",
   "id": "4a633323",
   "metadata": {},
   "source": [
    "### Before Dropping Low Value Features"
   ]
  },
  {
   "cell_type": "code",
   "execution_count": 679,
   "id": "9c0bb3fb",
   "metadata": {},
   "outputs": [
    {
     "data": {
      "text/plain": [
       "0.7876654811302114"
      ]
     },
     "execution_count": 679,
     "metadata": {},
     "output_type": "execute_result"
    }
   ],
   "source": [
    "# Create and save the balanced accuracy score\n",
    "training_accuracy_score = balanced_accuracy_score(y_train, training_predictions)\n",
    "\n",
    "# Print the balance accuracy score for the training data\n",
    "training_accuracy_score"
   ]
  },
  {
   "cell_type": "code",
   "execution_count": 680,
   "id": "3367cf69",
   "metadata": {},
   "outputs": [
    {
     "data": {
      "text/plain": [
       "0.6870481927710843"
      ]
     },
     "execution_count": 680,
     "metadata": {},
     "output_type": "execute_result"
    }
   ],
   "source": [
    "# Create and save the balanced accuracy score\n",
    "testing_accuracy_score = balanced_accuracy_score(y_test, testing_predictions)\n",
    "\n",
    "# Print the balance accuracy score for the testing data\n",
    "testing_accuracy_score"
   ]
  },
  {
   "cell_type": "code",
   "execution_count": 681,
   "id": "8e96aa7e",
   "metadata": {},
   "outputs": [
    {
     "name": "stdout",
     "output_type": "stream",
     "text": [
      "[[5741 1007]\n",
      " [1394 3667]]\n"
     ]
    }
   ],
   "source": [
    "# Create and save the confusion matrix for the testing data\n",
    "training_matrix = confusion_matrix(y_train, training_predictions)\n",
    "\n",
    "# Print the confusion matrix for the testing data\n",
    "print(training_matrix)"
   ]
  },
  {
   "cell_type": "code",
   "execution_count": 682,
   "id": "5b5d6c88",
   "metadata": {},
   "outputs": [
    {
     "name": "stdout",
     "output_type": "stream",
     "text": [
      "[[889 771]\n",
      " [134 696]]\n"
     ]
    }
   ],
   "source": [
    "# Create and save the confusion matrix for the testing data\n",
    "test_matrix = confusion_matrix(y_test, testing_predictions)\n",
    "\n",
    "# Print the confusion matrix for the testing data\n",
    "print(test_matrix)"
   ]
  },
  {
   "cell_type": "code",
   "execution_count": 683,
   "id": "d4d97ae2",
   "metadata": {},
   "outputs": [
    {
     "name": "stdout",
     "output_type": "stream",
     "text": [
      "              precision    recall  f1-score   support\n",
      "\n",
      "           0       0.80      0.85      0.83      6748\n",
      "           1       0.78      0.72      0.75      5061\n",
      "\n",
      "    accuracy                           0.80     11809\n",
      "   macro avg       0.79      0.79      0.79     11809\n",
      "weighted avg       0.80      0.80      0.80     11809\n",
      "\n"
     ]
    }
   ],
   "source": [
    "# Create and save the training classification report\n",
    "training_report = classification_report(y_train, training_predictions)\n",
    "\n",
    "# Print the training classification report\n",
    "print(training_report)"
   ]
  },
  {
   "cell_type": "code",
   "execution_count": 684,
   "id": "40f665bb",
   "metadata": {},
   "outputs": [
    {
     "name": "stdout",
     "output_type": "stream",
     "text": [
      "              precision    recall  f1-score   support\n",
      "\n",
      "           0       0.87      0.54      0.66      1660\n",
      "           1       0.47      0.84      0.61       830\n",
      "\n",
      "    accuracy                           0.64      2490\n",
      "   macro avg       0.67      0.69      0.63      2490\n",
      "weighted avg       0.74      0.64      0.64      2490\n",
      "\n"
     ]
    }
   ],
   "source": [
    "# Create and save the testing classification report\n",
    "testing_report = classification_report(y_test, testing_predictions)\n",
    "\n",
    "# Print the testing classification report\n",
    "print(testing_report)"
   ]
  },
  {
   "cell_type": "markdown",
   "id": "cd0c2694",
   "metadata": {},
   "source": [
    "### After Dropping Low Value Features"
   ]
  },
  {
   "cell_type": "code",
   "execution_count": 628,
   "id": "4e3ca06a",
   "metadata": {},
   "outputs": [
    {
     "data": {
      "text/plain": [
       "0.7799100968188104"
      ]
     },
     "execution_count": 628,
     "metadata": {},
     "output_type": "execute_result"
    }
   ],
   "source": [
    "training_accuracy_score = balanced_accuracy_score(y_train, training_predictions)\n",
    "training_accuracy_score"
   ]
  },
  {
   "cell_type": "code",
   "execution_count": 629,
   "id": "f6a4ab83",
   "metadata": {},
   "outputs": [
    {
     "data": {
      "text/plain": [
       "0.7515060240963856"
      ]
     },
     "execution_count": 629,
     "metadata": {},
     "output_type": "execute_result"
    }
   ],
   "source": [
    "testing_accuracy_score = balanced_accuracy_score(y_test, testing_predictions)\n",
    "testing_accuracy_score"
   ]
  },
  {
   "cell_type": "code",
   "execution_count": 590,
   "id": "218ed675",
   "metadata": {},
   "outputs": [
    {
     "name": "stdout",
     "output_type": "stream",
     "text": [
      "[[5795  953]\n",
      " [1513 3548]]\n"
     ]
    }
   ],
   "source": [
    "# Create and save the confusion matrix for the testing data\n",
    "training_matrix = confusion_matrix(y_train, training_predictions)\n",
    "\n",
    "# Print the confusion matrix for the testing data\n",
    "print(training_matrix)"
   ]
  },
  {
   "cell_type": "code",
   "execution_count": 591,
   "id": "efd5f171",
   "metadata": {},
   "outputs": [
    {
     "name": "stdout",
     "output_type": "stream",
     "text": [
      "[[1437  223]\n",
      " [ 301  529]]\n"
     ]
    }
   ],
   "source": [
    "# Create and save the confusion matrix for the testing data\n",
    "test_matrix = confusion_matrix(y_test, testing_predictions)\n",
    "\n",
    "# Print the confusion matrix for the testing data\n",
    "print(test_matrix)"
   ]
  },
  {
   "cell_type": "code",
   "execution_count": 592,
   "id": "8e2f4d12",
   "metadata": {},
   "outputs": [
    {
     "name": "stdout",
     "output_type": "stream",
     "text": [
      "              precision    recall  f1-score   support\n",
      "\n",
      "         bad       0.79      0.86      0.82      6748\n",
      "        good       0.79      0.70      0.74      5061\n",
      "\n",
      "    accuracy                           0.79     11809\n",
      "   macro avg       0.79      0.78      0.78     11809\n",
      "weighted avg       0.79      0.79      0.79     11809\n",
      "\n"
     ]
    }
   ],
   "source": [
    "# Create and save the training classification report\n",
    "training_report = classification_report(y_train, training_predictions)\n",
    "\n",
    "# Print the training classification report\n",
    "print(training_report)"
   ]
  },
  {
   "cell_type": "code",
   "execution_count": 593,
   "id": "df44568b",
   "metadata": {},
   "outputs": [
    {
     "name": "stdout",
     "output_type": "stream",
     "text": [
      "              precision    recall  f1-score   support\n",
      "\n",
      "         bad       0.83      0.87      0.85      1660\n",
      "        good       0.70      0.64      0.67       830\n",
      "\n",
      "    accuracy                           0.79      2490\n",
      "   macro avg       0.77      0.75      0.76      2490\n",
      "weighted avg       0.79      0.79      0.79      2490\n",
      "\n"
     ]
    }
   ],
   "source": [
    "# Create and save the testing classification report\n",
    "testing_report = classification_report(y_test, testing_predictions)\n",
    "\n",
    "# Print the testing classification report\n",
    "print(testing_report)"
   ]
  }
 ],
 "metadata": {
  "kernelspec": {
   "display_name": "Python 3 (ipykernel)",
   "language": "python",
   "name": "python3"
  },
  "language_info": {
   "codemirror_mode": {
    "name": "ipython",
    "version": 3
   },
   "file_extension": ".py",
   "mimetype": "text/x-python",
   "name": "python",
   "nbconvert_exporter": "python",
   "pygments_lexer": "ipython3",
   "version": "3.9.12"
  }
 },
 "nbformat": 4,
 "nbformat_minor": 5
}
