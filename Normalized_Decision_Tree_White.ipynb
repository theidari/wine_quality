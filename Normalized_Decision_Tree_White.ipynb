{
 "cells": [
  {
   "cell_type": "code",
   "execution_count": 76,
   "id": "c59eab91",
   "metadata": {},
   "outputs": [],
   "source": [
    "# Import required models\n",
    "from sklearn.preprocessing import StandardScaler\n",
    "from sklearn.model_selection import train_test_split\n",
    "from sklearn.metrics import classification_report\n",
    "from sklearn.metrics import balanced_accuracy_score\n",
    "from sklearn.metrics import confusion_matrix\n",
    "from sklearn.tree import DecisionTreeClassifier\n",
    "\n",
    "import matplotlib.pyplot as plt\n",
    "import pandas as pd\n",
    "from pathlib import Path"
   ]
  },
  {
   "cell_type": "markdown",
   "id": "1760c5eb",
   "metadata": {},
   "source": [
    "## Split the Data into Training and Testing Sets"
   ]
  },
  {
   "cell_type": "code",
   "execution_count": 59,
   "id": "7b7051af",
   "metadata": {},
   "outputs": [
    {
     "data": {
      "text/html": [
       "<div>\n",
       "<style scoped>\n",
       "    .dataframe tbody tr th:only-of-type {\n",
       "        vertical-align: middle;\n",
       "    }\n",
       "\n",
       "    .dataframe tbody tr th {\n",
       "        vertical-align: top;\n",
       "    }\n",
       "\n",
       "    .dataframe thead th {\n",
       "        text-align: right;\n",
       "    }\n",
       "</style>\n",
       "<table border=\"1\" class=\"dataframe\">\n",
       "  <thead>\n",
       "    <tr style=\"text-align: right;\">\n",
       "      <th></th>\n",
       "      <th>fixed acidity</th>\n",
       "      <th>volatile acidity</th>\n",
       "      <th>citric acid</th>\n",
       "      <th>residual sugar</th>\n",
       "      <th>chlorides</th>\n",
       "      <th>free sulfur dioxide</th>\n",
       "      <th>total sulfur dioxide</th>\n",
       "      <th>density</th>\n",
       "      <th>pH</th>\n",
       "      <th>sulphates</th>\n",
       "      <th>alcohol</th>\n",
       "      <th>quality</th>\n",
       "    </tr>\n",
       "  </thead>\n",
       "  <tbody>\n",
       "    <tr>\n",
       "      <th>0</th>\n",
       "      <td>1.846915</td>\n",
       "      <td>0.629961</td>\n",
       "      <td>0.603681</td>\n",
       "      <td>1.488806</td>\n",
       "      <td>0.363424</td>\n",
       "      <td>3.448217</td>\n",
       "      <td>161.0</td>\n",
       "      <td>0.997514</td>\n",
       "      <td>3.16</td>\n",
       "      <td>0.793701</td>\n",
       "      <td>10.5</td>\n",
       "      <td>6</td>\n",
       "    </tr>\n",
       "    <tr>\n",
       "      <th>1</th>\n",
       "      <td>1.983192</td>\n",
       "      <td>0.669433</td>\n",
       "      <td>0.661911</td>\n",
       "      <td>2.563697</td>\n",
       "      <td>0.377976</td>\n",
       "      <td>2.843867</td>\n",
       "      <td>135.0</td>\n",
       "      <td>0.999933</td>\n",
       "      <td>3.16</td>\n",
       "      <td>0.724316</td>\n",
       "      <td>9.0</td>\n",
       "      <td>6</td>\n",
       "    </tr>\n",
       "    <tr>\n",
       "      <th>2</th>\n",
       "      <td>1.948695</td>\n",
       "      <td>0.724316</td>\n",
       "      <td>0.646330</td>\n",
       "      <td>1.957434</td>\n",
       "      <td>0.344822</td>\n",
       "      <td>2.884499</td>\n",
       "      <td>160.0</td>\n",
       "      <td>0.998448</td>\n",
       "      <td>3.17</td>\n",
       "      <td>0.754784</td>\n",
       "      <td>10.0</td>\n",
       "      <td>5</td>\n",
       "    </tr>\n",
       "    <tr>\n",
       "      <th>3</th>\n",
       "      <td>1.948695</td>\n",
       "      <td>0.542884</td>\n",
       "      <td>0.788374</td>\n",
       "      <td>1.062659</td>\n",
       "      <td>0.380295</td>\n",
       "      <td>2.620741</td>\n",
       "      <td>150.0</td>\n",
       "      <td>0.997226</td>\n",
       "      <td>3.23</td>\n",
       "      <td>0.777498</td>\n",
       "      <td>11.2</td>\n",
       "      <td>6</td>\n",
       "    </tr>\n",
       "    <tr>\n",
       "      <th>4</th>\n",
       "      <td>1.930979</td>\n",
       "      <td>0.646330</td>\n",
       "      <td>0.654213</td>\n",
       "      <td>2.477125</td>\n",
       "      <td>0.358305</td>\n",
       "      <td>1.817121</td>\n",
       "      <td>41.0</td>\n",
       "      <td>0.998882</td>\n",
       "      <td>3.17</td>\n",
       "      <td>0.730614</td>\n",
       "      <td>10.9</td>\n",
       "      <td>6</td>\n",
       "    </tr>\n",
       "  </tbody>\n",
       "</table>\n",
       "</div>"
      ],
      "text/plain": [
       "   fixed acidity  volatile acidity  citric acid  residual sugar  chlorides  \\\n",
       "0       1.846915          0.629961     0.603681        1.488806   0.363424   \n",
       "1       1.983192          0.669433     0.661911        2.563697   0.377976   \n",
       "2       1.948695          0.724316     0.646330        1.957434   0.344822   \n",
       "3       1.948695          0.542884     0.788374        1.062659   0.380295   \n",
       "4       1.930979          0.646330     0.654213        2.477125   0.358305   \n",
       "\n",
       "   free sulfur dioxide  total sulfur dioxide   density    pH  sulphates  \\\n",
       "0             3.448217                 161.0  0.997514  3.16   0.793701   \n",
       "1             2.843867                 135.0  0.999933  3.16   0.724316   \n",
       "2             2.884499                 160.0  0.998448  3.17   0.754784   \n",
       "3             2.620741                 150.0  0.997226  3.23   0.777498   \n",
       "4             1.817121                  41.0  0.998882  3.17   0.730614   \n",
       "\n",
       "   alcohol  quality  \n",
       "0     10.5        6  \n",
       "1      9.0        6  \n",
       "2     10.0        5  \n",
       "3     11.2        6  \n",
       "4     10.9        6  "
      ]
     },
     "metadata": {},
     "output_type": "display_data"
    }
   ],
   "source": [
    "# Read csv files and display the DataFrame\n",
    "data_white = Path('Resources/white_trans.csv')\n",
    "df_white = pd.read_csv(data_white, sep = ',')\n",
    "\n",
    "display(df_white.head())"
   ]
  },
  {
   "cell_type": "code",
   "execution_count": 60,
   "id": "fc4965e8",
   "metadata": {},
   "outputs": [],
   "source": [
    "# Define a function that maps values from 1-4, 5-6 and 7-10.\n",
    "def map_wine_quality(value):\n",
    "    if value >= 1 and value <= 4:\n",
    "        return \"bad\"\n",
    "    elif value >= 5 and value <= 6:\n",
    "        return \"mediocre\"\n",
    "    elif value >= 7 and value <= 10:\n",
    "        return \"delicious\"\n",
    "    else:\n",
    "        return None"
   ]
  },
  {
   "cell_type": "code",
   "execution_count": 61,
   "id": "f9268b8c",
   "metadata": {
    "scrolled": true
   },
   "outputs": [
    {
     "data": {
      "text/html": [
       "<div>\n",
       "<style scoped>\n",
       "    .dataframe tbody tr th:only-of-type {\n",
       "        vertical-align: middle;\n",
       "    }\n",
       "\n",
       "    .dataframe tbody tr th {\n",
       "        vertical-align: top;\n",
       "    }\n",
       "\n",
       "    .dataframe thead th {\n",
       "        text-align: right;\n",
       "    }\n",
       "</style>\n",
       "<table border=\"1\" class=\"dataframe\">\n",
       "  <thead>\n",
       "    <tr style=\"text-align: right;\">\n",
       "      <th></th>\n",
       "      <th>fixed acidity</th>\n",
       "      <th>volatile acidity</th>\n",
       "      <th>citric acid</th>\n",
       "      <th>residual sugar</th>\n",
       "      <th>chlorides</th>\n",
       "      <th>free sulfur dioxide</th>\n",
       "      <th>total sulfur dioxide</th>\n",
       "      <th>density</th>\n",
       "      <th>pH</th>\n",
       "      <th>sulphates</th>\n",
       "      <th>alcohol</th>\n",
       "      <th>quality</th>\n",
       "      <th>wine quality</th>\n",
       "    </tr>\n",
       "  </thead>\n",
       "  <tbody>\n",
       "    <tr>\n",
       "      <th>0</th>\n",
       "      <td>1.846915</td>\n",
       "      <td>0.629961</td>\n",
       "      <td>0.603681</td>\n",
       "      <td>1.488806</td>\n",
       "      <td>0.363424</td>\n",
       "      <td>3.448217</td>\n",
       "      <td>161.0</td>\n",
       "      <td>0.997514</td>\n",
       "      <td>3.16</td>\n",
       "      <td>0.793701</td>\n",
       "      <td>10.5</td>\n",
       "      <td>6</td>\n",
       "      <td>mediocre</td>\n",
       "    </tr>\n",
       "    <tr>\n",
       "      <th>1</th>\n",
       "      <td>1.983192</td>\n",
       "      <td>0.669433</td>\n",
       "      <td>0.661911</td>\n",
       "      <td>2.563697</td>\n",
       "      <td>0.377976</td>\n",
       "      <td>2.843867</td>\n",
       "      <td>135.0</td>\n",
       "      <td>0.999933</td>\n",
       "      <td>3.16</td>\n",
       "      <td>0.724316</td>\n",
       "      <td>9.0</td>\n",
       "      <td>6</td>\n",
       "      <td>mediocre</td>\n",
       "    </tr>\n",
       "    <tr>\n",
       "      <th>2</th>\n",
       "      <td>1.948695</td>\n",
       "      <td>0.724316</td>\n",
       "      <td>0.646330</td>\n",
       "      <td>1.957434</td>\n",
       "      <td>0.344822</td>\n",
       "      <td>2.884499</td>\n",
       "      <td>160.0</td>\n",
       "      <td>0.998448</td>\n",
       "      <td>3.17</td>\n",
       "      <td>0.754784</td>\n",
       "      <td>10.0</td>\n",
       "      <td>5</td>\n",
       "      <td>mediocre</td>\n",
       "    </tr>\n",
       "    <tr>\n",
       "      <th>3</th>\n",
       "      <td>1.948695</td>\n",
       "      <td>0.542884</td>\n",
       "      <td>0.788374</td>\n",
       "      <td>1.062659</td>\n",
       "      <td>0.380295</td>\n",
       "      <td>2.620741</td>\n",
       "      <td>150.0</td>\n",
       "      <td>0.997226</td>\n",
       "      <td>3.23</td>\n",
       "      <td>0.777498</td>\n",
       "      <td>11.2</td>\n",
       "      <td>6</td>\n",
       "      <td>mediocre</td>\n",
       "    </tr>\n",
       "    <tr>\n",
       "      <th>4</th>\n",
       "      <td>1.930979</td>\n",
       "      <td>0.646330</td>\n",
       "      <td>0.654213</td>\n",
       "      <td>2.477125</td>\n",
       "      <td>0.358305</td>\n",
       "      <td>1.817121</td>\n",
       "      <td>41.0</td>\n",
       "      <td>0.998882</td>\n",
       "      <td>3.17</td>\n",
       "      <td>0.730614</td>\n",
       "      <td>10.9</td>\n",
       "      <td>6</td>\n",
       "      <td>mediocre</td>\n",
       "    </tr>\n",
       "  </tbody>\n",
       "</table>\n",
       "</div>"
      ],
      "text/plain": [
       "   fixed acidity  volatile acidity  citric acid  residual sugar  chlorides  \\\n",
       "0       1.846915          0.629961     0.603681        1.488806   0.363424   \n",
       "1       1.983192          0.669433     0.661911        2.563697   0.377976   \n",
       "2       1.948695          0.724316     0.646330        1.957434   0.344822   \n",
       "3       1.948695          0.542884     0.788374        1.062659   0.380295   \n",
       "4       1.930979          0.646330     0.654213        2.477125   0.358305   \n",
       "\n",
       "   free sulfur dioxide  total sulfur dioxide   density    pH  sulphates  \\\n",
       "0             3.448217                 161.0  0.997514  3.16   0.793701   \n",
       "1             2.843867                 135.0  0.999933  3.16   0.724316   \n",
       "2             2.884499                 160.0  0.998448  3.17   0.754784   \n",
       "3             2.620741                 150.0  0.997226  3.23   0.777498   \n",
       "4             1.817121                  41.0  0.998882  3.17   0.730614   \n",
       "\n",
       "   alcohol  quality wine quality  \n",
       "0     10.5        6     mediocre  \n",
       "1      9.0        6     mediocre  \n",
       "2     10.0        5     mediocre  \n",
       "3     11.2        6     mediocre  \n",
       "4     10.9        6     mediocre  "
      ]
     },
     "metadata": {},
     "output_type": "display_data"
    }
   ],
   "source": [
    "# use the apply method to create a new column based on the existing column\n",
    "df_white['wine quality'] = df_white['quality'].apply(map_wine_quality)\n",
    "\n",
    "display(df_white.head())"
   ]
  },
  {
   "cell_type": "code",
   "execution_count": 62,
   "id": "063c2d6b",
   "metadata": {},
   "outputs": [],
   "source": [
    "# Drop 'quality' column\n",
    "df_white = df_white.drop(columns='quality')"
   ]
  },
  {
   "cell_type": "code",
   "execution_count": 63,
   "id": "7162dc1c",
   "metadata": {},
   "outputs": [],
   "source": [
    "# Split the data into X and y\n",
    "X = df_white.drop(columns=[\"wine quality\"])\n",
    "y = df_white[\"wine quality\"]"
   ]
  },
  {
   "cell_type": "code",
   "execution_count": 65,
   "id": "42627eec",
   "metadata": {},
   "outputs": [
    {
     "data": {
      "text/html": [
       "<div>\n",
       "<style scoped>\n",
       "    .dataframe tbody tr th:only-of-type {\n",
       "        vertical-align: middle;\n",
       "    }\n",
       "\n",
       "    .dataframe tbody tr th {\n",
       "        vertical-align: top;\n",
       "    }\n",
       "\n",
       "    .dataframe thead th {\n",
       "        text-align: right;\n",
       "    }\n",
       "</style>\n",
       "<table border=\"1\" class=\"dataframe\">\n",
       "  <thead>\n",
       "    <tr style=\"text-align: right;\">\n",
       "      <th></th>\n",
       "      <th>fixed acidity</th>\n",
       "      <th>volatile acidity</th>\n",
       "      <th>citric acid</th>\n",
       "      <th>residual sugar</th>\n",
       "      <th>chlorides</th>\n",
       "      <th>free sulfur dioxide</th>\n",
       "      <th>total sulfur dioxide</th>\n",
       "      <th>density</th>\n",
       "      <th>pH</th>\n",
       "      <th>sulphates</th>\n",
       "      <th>alcohol</th>\n",
       "    </tr>\n",
       "  </thead>\n",
       "  <tbody>\n",
       "    <tr>\n",
       "      <th>0</th>\n",
       "      <td>1.846915</td>\n",
       "      <td>0.629961</td>\n",
       "      <td>0.603681</td>\n",
       "      <td>1.488806</td>\n",
       "      <td>0.363424</td>\n",
       "      <td>3.448217</td>\n",
       "      <td>161.0</td>\n",
       "      <td>0.997514</td>\n",
       "      <td>3.16</td>\n",
       "      <td>0.793701</td>\n",
       "      <td>10.5</td>\n",
       "    </tr>\n",
       "    <tr>\n",
       "      <th>1</th>\n",
       "      <td>1.983192</td>\n",
       "      <td>0.669433</td>\n",
       "      <td>0.661911</td>\n",
       "      <td>2.563697</td>\n",
       "      <td>0.377976</td>\n",
       "      <td>2.843867</td>\n",
       "      <td>135.0</td>\n",
       "      <td>0.999933</td>\n",
       "      <td>3.16</td>\n",
       "      <td>0.724316</td>\n",
       "      <td>9.0</td>\n",
       "    </tr>\n",
       "    <tr>\n",
       "      <th>2</th>\n",
       "      <td>1.948695</td>\n",
       "      <td>0.724316</td>\n",
       "      <td>0.646330</td>\n",
       "      <td>1.957434</td>\n",
       "      <td>0.344822</td>\n",
       "      <td>2.884499</td>\n",
       "      <td>160.0</td>\n",
       "      <td>0.998448</td>\n",
       "      <td>3.17</td>\n",
       "      <td>0.754784</td>\n",
       "      <td>10.0</td>\n",
       "    </tr>\n",
       "    <tr>\n",
       "      <th>3</th>\n",
       "      <td>1.948695</td>\n",
       "      <td>0.542884</td>\n",
       "      <td>0.788374</td>\n",
       "      <td>1.062659</td>\n",
       "      <td>0.380295</td>\n",
       "      <td>2.620741</td>\n",
       "      <td>150.0</td>\n",
       "      <td>0.997226</td>\n",
       "      <td>3.23</td>\n",
       "      <td>0.777498</td>\n",
       "      <td>11.2</td>\n",
       "    </tr>\n",
       "    <tr>\n",
       "      <th>4</th>\n",
       "      <td>1.930979</td>\n",
       "      <td>0.646330</td>\n",
       "      <td>0.654213</td>\n",
       "      <td>2.477125</td>\n",
       "      <td>0.358305</td>\n",
       "      <td>1.817121</td>\n",
       "      <td>41.0</td>\n",
       "      <td>0.998882</td>\n",
       "      <td>3.17</td>\n",
       "      <td>0.730614</td>\n",
       "      <td>10.9</td>\n",
       "    </tr>\n",
       "  </tbody>\n",
       "</table>\n",
       "</div>"
      ],
      "text/plain": [
       "   fixed acidity  volatile acidity  citric acid  residual sugar  chlorides  \\\n",
       "0       1.846915          0.629961     0.603681        1.488806   0.363424   \n",
       "1       1.983192          0.669433     0.661911        2.563697   0.377976   \n",
       "2       1.948695          0.724316     0.646330        1.957434   0.344822   \n",
       "3       1.948695          0.542884     0.788374        1.062659   0.380295   \n",
       "4       1.930979          0.646330     0.654213        2.477125   0.358305   \n",
       "\n",
       "   free sulfur dioxide  total sulfur dioxide   density    pH  sulphates  \\\n",
       "0             3.448217                 161.0  0.997514  3.16   0.793701   \n",
       "1             2.843867                 135.0  0.999933  3.16   0.724316   \n",
       "2             2.884499                 160.0  0.998448  3.17   0.754784   \n",
       "3             2.620741                 150.0  0.997226  3.23   0.777498   \n",
       "4             1.817121                  41.0  0.998882  3.17   0.730614   \n",
       "\n",
       "   alcohol  \n",
       "0     10.5  \n",
       "1      9.0  \n",
       "2     10.0  \n",
       "3     11.2  \n",
       "4     10.9  "
      ]
     },
     "execution_count": 65,
     "metadata": {},
     "output_type": "execute_result"
    }
   ],
   "source": [
    "X.head()"
   ]
  },
  {
   "cell_type": "code",
   "execution_count": 66,
   "id": "de37a927",
   "metadata": {},
   "outputs": [],
   "source": [
    "# Split into testing and training sets using train_test_split\n",
    "X_train, X_test, y_train, y_test = train_test_split(X, y, test_size=0.2, random_state=42)"
   ]
  },
  {
   "cell_type": "markdown",
   "id": "25abf843",
   "metadata": {},
   "source": [
    "## Create a Descision Tree Model"
   ]
  },
  {
   "cell_type": "code",
   "execution_count": 68,
   "id": "ec63d19b",
   "metadata": {},
   "outputs": [],
   "source": [
    "# Declare a Descision Tree model\n",
    "decision_tree_model = DecisionTreeClassifier(max_depth=10)\n",
    "\n",
    "# Fit and save the model using the training model\n",
    "model = decision_tree_model.fit(X_train, y_train)"
   ]
  },
  {
   "cell_type": "code",
   "execution_count": 69,
   "id": "58943d19",
   "metadata": {},
   "outputs": [],
   "source": [
    "# Use the model to make predictions on the testing data\n",
    "training_predictions = model.predict(X_train)\n",
    "testing_predictions = decision_tree_model.predict(X_test)"
   ]
  },
  {
   "cell_type": "code",
   "execution_count": 70,
   "id": "4e3ca06a",
   "metadata": {},
   "outputs": [
    {
     "data": {
      "text/plain": [
       "0.920624283479842"
      ]
     },
     "execution_count": 70,
     "metadata": {},
     "output_type": "execute_result"
    }
   ],
   "source": [
    "training_accuracy_score = balanced_accuracy_score(y_train, training_predictions)\n",
    "training_accuracy_score"
   ]
  },
  {
   "cell_type": "code",
   "execution_count": 71,
   "id": "ba70b64a",
   "metadata": {},
   "outputs": [
    {
     "data": {
      "text/plain": [
       "0.8883624654537744"
      ]
     },
     "execution_count": 71,
     "metadata": {},
     "output_type": "execute_result"
    }
   ],
   "source": [
    "testing_accuracy_score = balanced_accuracy_score(y_test, testing_predictions)\n",
    "testing_accuracy_score"
   ]
  },
  {
   "cell_type": "code",
   "execution_count": 72,
   "id": "218ed675",
   "metadata": {},
   "outputs": [
    {
     "name": "stdout",
     "output_type": "stream",
     "text": [
      "[[2498   22    2]\n",
      " [  22 3573  181]\n",
      " [ 138  300 2067]]\n"
     ]
    }
   ],
   "source": [
    "# Create and save the confusion matrix for the testing data\n",
    "training_matrix = confusion_matrix(y_train, training_predictions)\n",
    "\n",
    "# Print the confusion matrix for the testing data\n",
    "print(training_matrix)"
   ]
  },
  {
   "cell_type": "code",
   "execution_count": 73,
   "id": "efd5f171",
   "metadata": {},
   "outputs": [
    {
     "name": "stdout",
     "output_type": "stream",
     "text": [
      "[[611   8   3]\n",
      " [  5 886  49]\n",
      " [ 48 118 473]]\n"
     ]
    }
   ],
   "source": [
    "# Create and save the confusion matrix for the testing data\n",
    "test_matrix = confusion_matrix(y_test, testing_predictions)\n",
    "\n",
    "# Print the confusion matrix for the testing data\n",
    "print(test_matrix)"
   ]
  },
  {
   "cell_type": "code",
   "execution_count": 74,
   "id": "f2226053",
   "metadata": {},
   "outputs": [
    {
     "name": "stdout",
     "output_type": "stream",
     "text": [
      "              precision    recall  f1-score   support\n",
      "\n",
      "         bad       0.94      0.99      0.96      2522\n",
      "   delicious       0.92      0.95      0.93      3776\n",
      "    mediocre       0.92      0.83      0.87      2505\n",
      "\n",
      "    accuracy                           0.92      8803\n",
      "   macro avg       0.93      0.92      0.92      8803\n",
      "weighted avg       0.92      0.92      0.92      8803\n",
      "\n"
     ]
    }
   ],
   "source": [
    "# Create and save the training classification report\n",
    "training_report = classification_report(y_train, training_predictions)\n",
    "\n",
    "# Print the training classification report\n",
    "print(training_report)"
   ]
  },
  {
   "cell_type": "code",
   "execution_count": 75,
   "id": "a983d9b7",
   "metadata": {},
   "outputs": [
    {
     "name": "stdout",
     "output_type": "stream",
     "text": [
      "              precision    recall  f1-score   support\n",
      "\n",
      "         bad       0.92      0.98      0.95       622\n",
      "   delicious       0.88      0.94      0.91       940\n",
      "    mediocre       0.90      0.74      0.81       639\n",
      "\n",
      "    accuracy                           0.90      2201\n",
      "   macro avg       0.90      0.89      0.89      2201\n",
      "weighted avg       0.90      0.90      0.89      2201\n",
      "\n"
     ]
    }
   ],
   "source": [
    "# Create and save the testing classification report\n",
    "testing_report = classification_report(y_test, testing_predictions)\n",
    "\n",
    "# Print the testing classification report\n",
    "print(testing_report)"
   ]
  }
 ],
 "metadata": {
  "kernelspec": {
   "display_name": "Python 3 (ipykernel)",
   "language": "python",
   "name": "python3"
  },
  "language_info": {
   "codemirror_mode": {
    "name": "ipython",
    "version": 3
   },
   "file_extension": ".py",
   "mimetype": "text/x-python",
   "name": "python",
   "nbconvert_exporter": "python",
   "pygments_lexer": "ipython3",
   "version": "3.9.12"
  }
 },
 "nbformat": 4,
 "nbformat_minor": 5
}
