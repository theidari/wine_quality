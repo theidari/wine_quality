{
 "cells": [
  {
   "cell_type": "code",
   "execution_count": 4,
   "id": "012714e8",
   "metadata": {},
   "outputs": [],
   "source": [
    "import streamlit as st\n",
    "import pandas as pd\n",
    "import pickle\n",
    "from pathlib import Path"
   ]
  },
  {
   "cell_type": "code",
   "execution_count": 5,
   "id": "66fd34d4",
   "metadata": {},
   "outputs": [],
   "source": [
    "# Load model file\n",
    "filename = Path('LogRDummyModel.pkl')\n",
    "model = pickle.load(open(filename, 'rb'))"
   ]
  },
  {
   "cell_type": "code",
   "execution_count": 6,
   "id": "11145b51",
   "metadata": {},
   "outputs": [
    {
     "ename": "SyntaxError",
     "evalue": "unexpected EOF while parsing (856225836.py, line 2)",
     "output_type": "error",
     "traceback": [
      "\u001b[1;36m  Input \u001b[1;32mIn [6]\u001b[1;36m\u001b[0m\n\u001b[1;33m    @st.cache\u001b[0m\n\u001b[1;37m             ^\u001b[0m\n\u001b[1;31mSyntaxError\u001b[0m\u001b[1;31m:\u001b[0m unexpected EOF while parsing\n"
     ]
    }
   ],
   "source": [
    "# cache for speed/easy access REMEMBER TO UNCACHE\n",
    "@st.cache"
   ]
  },
  {
   "cell_type": "code",
   "execution_count": 8,
   "id": "1f7933be",
   "metadata": {},
   "outputs": [],
   "source": [
    "def predict(feature1, feature2, feature3):\n",
    "    # code insurance to limit responses to within data range\n",
    "    # Also to scale input appropriately \n",
    "    \n",
    "    input = pd.DataFrame([[feature1, feature2, feature3]],columns=['feature1','feature2','feature3'])\n",
    "    prediction = model.predict(input)\n",
    "    return prediction"
   ]
  },
  {
   "cell_type": "code",
   "execution_count": 10,
   "id": "f2a5fa58",
   "metadata": {},
   "outputs": [],
   "source": [
    "st.title('Wine Quality Prediction')\n",
    "st.image('https://images.unsplash.com/photo-1585553616435-2dc0a54e271d?ixlib=rb-4.0.3&ixid=MnwxMjA3fDB8MHxzZWFyY2h8NXx8d2luZXxlbnwwfHwwfHw%3D&auto=format&fit=crop&w=400&q=60')\n",
    "st.header('Enter wine chemistry below')\n",
    "\n",
    "# does value = 1.0 scale it?\n",
    "feature1 = st.number_input('feature1', min_value = 0.0, max_value = 5.0, value=1.0)\n",
    "feature2 = st.number_input('feature2', min_value = 0.0, max_value = 5.0, value=1.0)\n",
    "feature3 = st.number_input('feature3', min_value = 0.0, max_value = 5.0, value=1.0)\n",
    "colour = st.selectbox('Red or White:', ['Red','White'])\n"
   ]
  },
  {
   "cell_type": "code",
   "execution_count": null,
   "id": "cb83aab1",
   "metadata": {},
   "outputs": [],
   "source": [
    "if st.button('Predict Quality'):\n",
    "    quality = predict(feature1, feature2, feature3)\n",
    "    st.success(f'The predicted wine quality is {quality}')"
   ]
  }
 ],
 "metadata": {
  "kernelspec": {
   "display_name": "Python 3 (ipykernel)",
   "language": "python",
   "name": "python3"
  },
  "language_info": {
   "codemirror_mode": {
    "name": "ipython",
    "version": 3
   },
   "file_extension": ".py",
   "mimetype": "text/x-python",
   "name": "python",
   "nbconvert_exporter": "python",
   "pygments_lexer": "ipython3",
   "version": "3.9.12"
  }
 },
 "nbformat": 4,
 "nbformat_minor": 5
}
