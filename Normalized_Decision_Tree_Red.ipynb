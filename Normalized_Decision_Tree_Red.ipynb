{
 "cells": [
  {
   "cell_type": "code",
   "execution_count": 1,
   "id": "182dbc3f",
   "metadata": {},
   "outputs": [],
   "source": [
    "# Import required models\n",
    "from sklearn.preprocessing import StandardScaler\n",
    "from sklearn.model_selection import train_test_split\n",
    "from sklearn.metrics import classification_report\n",
    "from sklearn.metrics import balanced_accuracy_score\n",
    "from sklearn.metrics import confusion_matrix\n",
    "from sklearn.tree import DecisionTreeClassifier\n",
    "\n",
    "import matplotlib.pyplot as plt\n",
    "import pandas as pd\n",
    "from pathlib import Path"
   ]
  },
  {
   "cell_type": "markdown",
   "id": "818f3ef1",
   "metadata": {},
   "source": [
    "## Split the Data into Training and Testing Sets"
   ]
  },
  {
   "cell_type": "code",
   "execution_count": 3,
   "id": "eda35549",
   "metadata": {},
   "outputs": [
    {
     "data": {
      "text/html": [
       "<div>\n",
       "<style scoped>\n",
       "    .dataframe tbody tr th:only-of-type {\n",
       "        vertical-align: middle;\n",
       "    }\n",
       "\n",
       "    .dataframe tbody tr th {\n",
       "        vertical-align: top;\n",
       "    }\n",
       "\n",
       "    .dataframe thead th {\n",
       "        text-align: right;\n",
       "    }\n",
       "</style>\n",
       "<table border=\"1\" class=\"dataframe\">\n",
       "  <thead>\n",
       "    <tr style=\"text-align: right;\">\n",
       "      <th></th>\n",
       "      <th>fixed acidity</th>\n",
       "      <th>volatile acidity</th>\n",
       "      <th>citric acid</th>\n",
       "      <th>residual sugar</th>\n",
       "      <th>chlorides</th>\n",
       "      <th>free sulfur dioxide</th>\n",
       "      <th>total sulfur dioxide</th>\n",
       "      <th>density</th>\n",
       "      <th>pH</th>\n",
       "      <th>sulphates</th>\n",
       "      <th>alcohol</th>\n",
       "      <th>quality</th>\n",
       "    </tr>\n",
       "  </thead>\n",
       "  <tbody>\n",
       "    <tr>\n",
       "      <th>0</th>\n",
       "      <td>1.948695</td>\n",
       "      <td>0.887904</td>\n",
       "      <td>0.00</td>\n",
       "      <td>1.238562</td>\n",
       "      <td>0.423582</td>\n",
       "      <td>2.223980</td>\n",
       "      <td>3.239612</td>\n",
       "      <td>0.9978</td>\n",
       "      <td>3.51</td>\n",
       "      <td>0.824257</td>\n",
       "      <td>2.110454</td>\n",
       "      <td>5</td>\n",
       "    </tr>\n",
       "    <tr>\n",
       "      <th>1</th>\n",
       "      <td>1.983192</td>\n",
       "      <td>0.958284</td>\n",
       "      <td>0.00</td>\n",
       "      <td>1.375069</td>\n",
       "      <td>0.461044</td>\n",
       "      <td>2.924018</td>\n",
       "      <td>4.061548</td>\n",
       "      <td>0.9968</td>\n",
       "      <td>3.20</td>\n",
       "      <td>0.879366</td>\n",
       "      <td>2.139975</td>\n",
       "      <td>5</td>\n",
       "    </tr>\n",
       "    <tr>\n",
       "      <th>2</th>\n",
       "      <td>1.983192</td>\n",
       "      <td>0.912581</td>\n",
       "      <td>0.04</td>\n",
       "      <td>1.320006</td>\n",
       "      <td>0.451436</td>\n",
       "      <td>2.466212</td>\n",
       "      <td>3.779763</td>\n",
       "      <td>0.9970</td>\n",
       "      <td>3.26</td>\n",
       "      <td>0.866239</td>\n",
       "      <td>2.139975</td>\n",
       "      <td>5</td>\n",
       "    </tr>\n",
       "    <tr>\n",
       "      <th>3</th>\n",
       "      <td>2.237378</td>\n",
       "      <td>0.654213</td>\n",
       "      <td>0.56</td>\n",
       "      <td>1.238562</td>\n",
       "      <td>0.421716</td>\n",
       "      <td>2.571282</td>\n",
       "      <td>3.914868</td>\n",
       "      <td>0.9980</td>\n",
       "      <td>3.16</td>\n",
       "      <td>0.833955</td>\n",
       "      <td>2.139975</td>\n",
       "      <td>6</td>\n",
       "    </tr>\n",
       "    <tr>\n",
       "      <th>4</th>\n",
       "      <td>1.948695</td>\n",
       "      <td>0.887904</td>\n",
       "      <td>0.00</td>\n",
       "      <td>1.238562</td>\n",
       "      <td>0.423582</td>\n",
       "      <td>2.223980</td>\n",
       "      <td>3.239612</td>\n",
       "      <td>0.9978</td>\n",
       "      <td>3.51</td>\n",
       "      <td>0.824257</td>\n",
       "      <td>2.110454</td>\n",
       "      <td>5</td>\n",
       "    </tr>\n",
       "  </tbody>\n",
       "</table>\n",
       "</div>"
      ],
      "text/plain": [
       "   fixed acidity  volatile acidity  citric acid  residual sugar  chlorides  \\\n",
       "0       1.948695          0.887904         0.00        1.238562   0.423582   \n",
       "1       1.983192          0.958284         0.00        1.375069   0.461044   \n",
       "2       1.983192          0.912581         0.04        1.320006   0.451436   \n",
       "3       2.237378          0.654213         0.56        1.238562   0.421716   \n",
       "4       1.948695          0.887904         0.00        1.238562   0.423582   \n",
       "\n",
       "   free sulfur dioxide  total sulfur dioxide  density    pH  sulphates  \\\n",
       "0             2.223980              3.239612   0.9978  3.51   0.824257   \n",
       "1             2.924018              4.061548   0.9968  3.20   0.879366   \n",
       "2             2.466212              3.779763   0.9970  3.26   0.866239   \n",
       "3             2.571282              3.914868   0.9980  3.16   0.833955   \n",
       "4             2.223980              3.239612   0.9978  3.51   0.824257   \n",
       "\n",
       "    alcohol  quality  \n",
       "0  2.110454        5  \n",
       "1  2.139975        5  \n",
       "2  2.139975        5  \n",
       "3  2.139975        6  \n",
       "4  2.110454        5  "
      ]
     },
     "metadata": {},
     "output_type": "display_data"
    }
   ],
   "source": [
    "# Read csv file and display the DataFrame\n",
    "data_red = Path('Resources/red_trans.csv')\n",
    "df_red = pd.read_csv(data_red, sep = ',')\n",
    "\n",
    "display(df_red.head())"
   ]
  },
  {
   "cell_type": "code",
   "execution_count": 4,
   "id": "43819740",
   "metadata": {},
   "outputs": [],
   "source": [
    "# Define a function that maps values from 1-4, 5-6 and 7-10.\n",
    "def map_wine_quality(value):\n",
    "    if value >= 1 and value <= 4:\n",
    "        return \"bad\"\n",
    "    elif value >= 5 and value <= 6:\n",
    "        return \"mediocre\"\n",
    "    elif value >= 7 and value <= 10:\n",
    "        return \"delicious\"\n",
    "    else:\n",
    "        return None"
   ]
  },
  {
   "cell_type": "code",
   "execution_count": 5,
   "id": "483a8f46",
   "metadata": {
    "scrolled": true
   },
   "outputs": [
    {
     "data": {
      "text/html": [
       "<div>\n",
       "<style scoped>\n",
       "    .dataframe tbody tr th:only-of-type {\n",
       "        vertical-align: middle;\n",
       "    }\n",
       "\n",
       "    .dataframe tbody tr th {\n",
       "        vertical-align: top;\n",
       "    }\n",
       "\n",
       "    .dataframe thead th {\n",
       "        text-align: right;\n",
       "    }\n",
       "</style>\n",
       "<table border=\"1\" class=\"dataframe\">\n",
       "  <thead>\n",
       "    <tr style=\"text-align: right;\">\n",
       "      <th></th>\n",
       "      <th>fixed acidity</th>\n",
       "      <th>volatile acidity</th>\n",
       "      <th>citric acid</th>\n",
       "      <th>residual sugar</th>\n",
       "      <th>chlorides</th>\n",
       "      <th>free sulfur dioxide</th>\n",
       "      <th>total sulfur dioxide</th>\n",
       "      <th>density</th>\n",
       "      <th>pH</th>\n",
       "      <th>sulphates</th>\n",
       "      <th>alcohol</th>\n",
       "      <th>quality</th>\n",
       "      <th>wine quality</th>\n",
       "    </tr>\n",
       "  </thead>\n",
       "  <tbody>\n",
       "    <tr>\n",
       "      <th>0</th>\n",
       "      <td>1.948695</td>\n",
       "      <td>0.887904</td>\n",
       "      <td>0.00</td>\n",
       "      <td>1.238562</td>\n",
       "      <td>0.423582</td>\n",
       "      <td>2.223980</td>\n",
       "      <td>3.239612</td>\n",
       "      <td>0.9978</td>\n",
       "      <td>3.51</td>\n",
       "      <td>0.824257</td>\n",
       "      <td>2.110454</td>\n",
       "      <td>5</td>\n",
       "      <td>mediocre</td>\n",
       "    </tr>\n",
       "    <tr>\n",
       "      <th>1</th>\n",
       "      <td>1.983192</td>\n",
       "      <td>0.958284</td>\n",
       "      <td>0.00</td>\n",
       "      <td>1.375069</td>\n",
       "      <td>0.461044</td>\n",
       "      <td>2.924018</td>\n",
       "      <td>4.061548</td>\n",
       "      <td>0.9968</td>\n",
       "      <td>3.20</td>\n",
       "      <td>0.879366</td>\n",
       "      <td>2.139975</td>\n",
       "      <td>5</td>\n",
       "      <td>mediocre</td>\n",
       "    </tr>\n",
       "    <tr>\n",
       "      <th>2</th>\n",
       "      <td>1.983192</td>\n",
       "      <td>0.912581</td>\n",
       "      <td>0.04</td>\n",
       "      <td>1.320006</td>\n",
       "      <td>0.451436</td>\n",
       "      <td>2.466212</td>\n",
       "      <td>3.779763</td>\n",
       "      <td>0.9970</td>\n",
       "      <td>3.26</td>\n",
       "      <td>0.866239</td>\n",
       "      <td>2.139975</td>\n",
       "      <td>5</td>\n",
       "      <td>mediocre</td>\n",
       "    </tr>\n",
       "    <tr>\n",
       "      <th>3</th>\n",
       "      <td>2.237378</td>\n",
       "      <td>0.654213</td>\n",
       "      <td>0.56</td>\n",
       "      <td>1.238562</td>\n",
       "      <td>0.421716</td>\n",
       "      <td>2.571282</td>\n",
       "      <td>3.914868</td>\n",
       "      <td>0.9980</td>\n",
       "      <td>3.16</td>\n",
       "      <td>0.833955</td>\n",
       "      <td>2.139975</td>\n",
       "      <td>6</td>\n",
       "      <td>mediocre</td>\n",
       "    </tr>\n",
       "    <tr>\n",
       "      <th>4</th>\n",
       "      <td>1.948695</td>\n",
       "      <td>0.887904</td>\n",
       "      <td>0.00</td>\n",
       "      <td>1.238562</td>\n",
       "      <td>0.423582</td>\n",
       "      <td>2.223980</td>\n",
       "      <td>3.239612</td>\n",
       "      <td>0.9978</td>\n",
       "      <td>3.51</td>\n",
       "      <td>0.824257</td>\n",
       "      <td>2.110454</td>\n",
       "      <td>5</td>\n",
       "      <td>mediocre</td>\n",
       "    </tr>\n",
       "  </tbody>\n",
       "</table>\n",
       "</div>"
      ],
      "text/plain": [
       "   fixed acidity  volatile acidity  citric acid  residual sugar  chlorides  \\\n",
       "0       1.948695          0.887904         0.00        1.238562   0.423582   \n",
       "1       1.983192          0.958284         0.00        1.375069   0.461044   \n",
       "2       1.983192          0.912581         0.04        1.320006   0.451436   \n",
       "3       2.237378          0.654213         0.56        1.238562   0.421716   \n",
       "4       1.948695          0.887904         0.00        1.238562   0.423582   \n",
       "\n",
       "   free sulfur dioxide  total sulfur dioxide  density    pH  sulphates  \\\n",
       "0             2.223980              3.239612   0.9978  3.51   0.824257   \n",
       "1             2.924018              4.061548   0.9968  3.20   0.879366   \n",
       "2             2.466212              3.779763   0.9970  3.26   0.866239   \n",
       "3             2.571282              3.914868   0.9980  3.16   0.833955   \n",
       "4             2.223980              3.239612   0.9978  3.51   0.824257   \n",
       "\n",
       "    alcohol  quality wine quality  \n",
       "0  2.110454        5     mediocre  \n",
       "1  2.139975        5     mediocre  \n",
       "2  2.139975        5     mediocre  \n",
       "3  2.139975        6     mediocre  \n",
       "4  2.110454        5     mediocre  "
      ]
     },
     "metadata": {},
     "output_type": "display_data"
    }
   ],
   "source": [
    "# use the apply method to create a new column based on the existing column\n",
    "df_red['wine quality'] = df_red['quality'].apply(map_wine_quality)\n",
    "\n",
    "display(df_red.head())"
   ]
  },
  {
   "cell_type": "code",
   "execution_count": 6,
   "id": "5600439c",
   "metadata": {},
   "outputs": [],
   "source": [
    "# Drop 'quality' column\n",
    "df_red = df_red.drop(columns='quality')"
   ]
  },
  {
   "cell_type": "code",
   "execution_count": 7,
   "id": "7f5776df",
   "metadata": {},
   "outputs": [],
   "source": [
    "# Split the data into X and y\n",
    "X = df_red.drop(columns=[\"wine quality\"])\n",
    "y = df_red[\"wine quality\"]"
   ]
  },
  {
   "cell_type": "code",
   "execution_count": 8,
   "id": "a506b4c8",
   "metadata": {},
   "outputs": [],
   "source": [
    "# Split into testing and training sets using train_test_split\n",
    "X_train, X_test, y_train, y_test = train_test_split(X, y, test_size=.2, random_state=42)"
   ]
  },
  {
   "cell_type": "markdown",
   "id": "9462c53d",
   "metadata": {},
   "source": [
    "## Create a Decision Tree Model"
   ]
  },
  {
   "cell_type": "code",
   "execution_count": 9,
   "id": "de0cadfe",
   "metadata": {},
   "outputs": [],
   "source": [
    "# Declare a Descision Tree model\n",
    "decision_tree_model = DecisionTreeClassifier(max_depth=10)\n",
    "\n",
    "# Fit and save the model using the training model\n",
    "model = decision_tree_model.fit(X_train, y_train)"
   ]
  },
  {
   "cell_type": "code",
   "execution_count": 10,
   "id": "e7069823",
   "metadata": {},
   "outputs": [],
   "source": [
    "# Use the model to make predictions on the testing data\n",
    "training_predictions = model.predict(X_train)\n",
    "testing_predictions = decision_tree_model.predict(X_test)"
   ]
  },
  {
   "cell_type": "code",
   "execution_count": 11,
   "id": "d8674b9f",
   "metadata": {},
   "outputs": [
    {
     "data": {
      "text/plain": [
       "0.9724216220063342"
      ]
     },
     "execution_count": 11,
     "metadata": {},
     "output_type": "execute_result"
    }
   ],
   "source": [
    "# Create and save the balanced accuracy score\n",
    "training_accuracy_score = balanced_accuracy_score(y_train, training_predictions)\n",
    "\n",
    "# Print the balance accuracy score for the training data\n",
    "training_accuracy_score"
   ]
  },
  {
   "cell_type": "code",
   "execution_count": 12,
   "id": "b80bedd5",
   "metadata": {},
   "outputs": [
    {
     "data": {
      "text/plain": [
       "0.9327152014652015"
      ]
     },
     "execution_count": 12,
     "metadata": {},
     "output_type": "execute_result"
    }
   ],
   "source": [
    "# Create and save the balanced accuracy score\n",
    "testing_accuracy_score = balanced_accuracy_score(y_test, testing_predictions)\n",
    "\n",
    "# Print the balance accuracy score for the testing data\n",
    "testing_accuracy_score"
   ]
  },
  {
   "cell_type": "code",
   "execution_count": 13,
   "id": "0faf9a8b",
   "metadata": {},
   "outputs": [
    {
     "name": "stdout",
     "output_type": "stream",
     "text": [
      "[[968   0   0]\n",
      " [  0 975  11]\n",
      " [ 44  24 882]]\n"
     ]
    }
   ],
   "source": [
    "# Create and save the confusion matrix for the testing data\n",
    "training_matrix = confusion_matrix(y_train, training_predictions)\n",
    "\n",
    "# Print the confusion matrix for the testing data\n",
    "print(training_matrix)"
   ]
  },
  {
   "cell_type": "code",
   "execution_count": 14,
   "id": "2535cbf7",
   "metadata": {},
   "outputs": [
    {
     "name": "stdout",
     "output_type": "stream",
     "text": [
      "[[242   0   0]\n",
      " [  0 221   3]\n",
      " [ 24  25 211]]\n"
     ]
    }
   ],
   "source": [
    "# Create and save the confusion matrix for the testing data\n",
    "test_matrix = confusion_matrix(y_test, testing_predictions)\n",
    "\n",
    "# Print the confusion matrix for the testing data\n",
    "print(test_matrix)"
   ]
  },
  {
   "cell_type": "code",
   "execution_count": 15,
   "id": "da0089dd",
   "metadata": {},
   "outputs": [
    {
     "name": "stdout",
     "output_type": "stream",
     "text": [
      "              precision    recall  f1-score   support\n",
      "\n",
      "         bad       0.96      1.00      0.98       968\n",
      "   delicious       0.98      0.99      0.98       986\n",
      "    mediocre       0.99      0.93      0.96       950\n",
      "\n",
      "    accuracy                           0.97      2904\n",
      "   macro avg       0.97      0.97      0.97      2904\n",
      "weighted avg       0.97      0.97      0.97      2904\n",
      "\n"
     ]
    }
   ],
   "source": [
    "# Create and save the training classification report\n",
    "training_report = classification_report(y_train, training_predictions)\n",
    "\n",
    "# Print the training classification report\n",
    "print(training_report)"
   ]
  },
  {
   "cell_type": "code",
   "execution_count": 16,
   "id": "604b644a",
   "metadata": {},
   "outputs": [
    {
     "name": "stdout",
     "output_type": "stream",
     "text": [
      "              precision    recall  f1-score   support\n",
      "\n",
      "         bad       0.91      1.00      0.95       242\n",
      "   delicious       0.90      0.99      0.94       224\n",
      "    mediocre       0.99      0.81      0.89       260\n",
      "\n",
      "    accuracy                           0.93       726\n",
      "   macro avg       0.93      0.93      0.93       726\n",
      "weighted avg       0.93      0.93      0.93       726\n",
      "\n"
     ]
    }
   ],
   "source": [
    "# Create and save the testing classification report\n",
    "testing_report = classification_report(y_test, testing_predictions)\n",
    "\n",
    "# Print the testing classification report\n",
    "print(testing_report)"
   ]
  }
 ],
 "metadata": {
  "kernelspec": {
   "display_name": "Python 3 (ipykernel)",
   "language": "python",
   "name": "python3"
  },
  "language_info": {
   "codemirror_mode": {
    "name": "ipython",
    "version": 3
   },
   "file_extension": ".py",
   "mimetype": "text/x-python",
   "name": "python",
   "nbconvert_exporter": "python",
   "pygments_lexer": "ipython3",
   "version": "3.9.12"
  }
 },
 "nbformat": 4,
 "nbformat_minor": 5
}
